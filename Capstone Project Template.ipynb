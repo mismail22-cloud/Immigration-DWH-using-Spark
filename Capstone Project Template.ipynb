{
 "cells": [
  {
   "cell_type": "markdown",
   "metadata": {
    "editable": true
   },
   "source": [
    "# Project Title\n",
    "### Data Engineering Capstone Project\n",
    "\n",
    "#### Project Summary\n",
    "This Project aims to provide an analytical model for immigrations to United States.It'll provide insights needed as well as figures that help in decision making.\n",
    "\n",
    "The project follows the follow steps:\n",
    "* Step 1: Scope the Project and Gather Data\n",
    "* Step 2: Explore and Assess the Data\n",
    "* Step 3: Define the Data Model\n",
    "* Step 4: Run ETL to Model the Data\n",
    "* Step 5: Complete Project Write Up"
   ]
  },
  {
   "cell_type": "code",
   "execution_count": 34,
   "metadata": {
    "editable": true
   },
   "outputs": [],
   "source": [
    "# Do all imports and installs here\n",
    "import pandas as pd\n",
    "from pyspark.sql.types import StructType, StructField, DoubleType, StringType, IntegerType, DateType, TimestampType\n",
    "from pyspark.sql import SparkSession\n",
    "import datetime"
   ]
  },
  {
   "cell_type": "markdown",
   "metadata": {
    "editable": true
   },
   "source": [
    "Initiating spark session"
   ]
  },
  {
   "cell_type": "code",
   "execution_count": 35,
   "metadata": {
    "editable": true
   },
   "outputs": [],
   "source": [
    "spark = SparkSession.builder.\\\n",
    "config(\"spark.jars.packages\",\"saurfang:spark-sas7bdat:2.0.0-s_2.11\")\\\n",
    ".enableHiveSupport().getOrCreate()"
   ]
  },
  {
   "cell_type": "markdown",
   "metadata": {
    "editable": true
   },
   "source": [
    "Define the Functions that will be used"
   ]
  },
  {
   "cell_type": "code",
   "execution_count": 36,
   "metadata": {
    "editable": true
   },
   "outputs": [],
   "source": [
    "#This function will check if there exists an earlier load for the table or this is the first time\n",
    "def check_table(table_path):\n",
    "    try:\n",
    "        song_table_df = spark.read.parquet(table_path)\n",
    "        return 'TRUE'\n",
    "    except:\n",
    "        return 'FALSE'"
   ]
  },
  {
   "cell_type": "markdown",
   "metadata": {
    "editable": true
   },
   "source": [
    "Set the config parameters that will be used"
   ]
  },
  {
   "cell_type": "code",
   "execution_count": 37,
   "metadata": {
    "editable": true
   },
   "outputs": [],
   "source": [
    "landing_zone_path=\"./Landing Zone/\"\n",
    "dwh_model_path=\"./DWH Model/\""
   ]
  },
  {
   "cell_type": "markdown",
   "metadata": {
    "editable": true
   },
   "source": [
    "### Step 1: Scope the Project and Gather Data\n",
    "\n",
    "#### Scope \n",
    "The Solution will provide analytical model.The Model is dimensional star schema form.This is otimum for Data warehouse solutions to avail best performance for the analytical queries that will run on top of the model.\n",
    "\n",
    "The Solution is based on:\n",
    "1.Landing the source files in the landing zone.\n",
    "2.Read the data in spark tables (schema on read).\n",
    "3.Transforming the data to the analytical model in the dimensional star schema form.\n",
    "\n",
    "The data extraction , transformations & loading is done with Pyspark SQL. The data is transformed and written to parque files.\n",
    "\n",
    "#### Describe and Gather Data \n",
    "The data sets consists of the below source files:\n",
    "1.\"i94_apr16_sub.sas7bdat\":\n",
    "Holds the Immigration transactions along with all the facts and measures related to it (City immigrated from , US city immigrated to,arrival date,arrival port,immigration mode,departure date,birthdate,visa type,gender,airline used).\n",
    "The files are extracted on monthly basis.\n",
    "\n",
    "2.\"us-cities-demographics.csv\":\n",
    "Holds the US cities details (city, state,median age of citizens,male population , female population,total population, foreign-born citizens)\n",
    "\n",
    "3.\"city.txt\":\n",
    "Holds the countries names and corresponding codes , extracted from \"I94_SAS_Labels_Description.SAS\" file\n",
    "\n",
    "4.\"airport-codes_csv.csv\":\n",
    "Holds the airports all details.\n",
    "\n",
    "5.\"transport_mode.txt\":\n",
    "Holds transport modes used by immigrants ('Air','Sea',etc...) ,extracted from \"I94_SAS_Labels_Description.SAS\" file\n",
    "\n",
    "6.\"visa_type.txt\":\n",
    "Holds the different type of Visa types and corresponding codes,extracted from \"I94_SAS_Labels_Description.SAS\" file"
   ]
  },
  {
   "cell_type": "markdown",
   "metadata": {
    "editable": true
   },
   "source": [
    "### Step 2: Explore and Assess the Data\n",
    "#### Explore the Data \n",
    "Reading the data ,Identify data quality issues, like missing values in keys and amndatory values, duplicate data, granularity,checking distinct values.\n",
    "\n",
    "#### Cleaning Steps\n",
    "Filtering the requires set of data only.\n",
    "removing records having null values in mandatory ccolumns\n",
    "setting the required granularity"
   ]
  },
  {
   "cell_type": "markdown",
   "metadata": {
    "editable": true
   },
   "source": [
    "Read Immigration data and load to staging area"
   ]
  },
  {
   "cell_type": "code",
   "execution_count": 38,
   "metadata": {
    "editable": true
   },
   "outputs": [],
   "source": [
    "stg_immigration_df =spark.read.format('com.github.saurfang.sas.spark').load('../../data/18-83510-I94-Data-2016/i94_apr16_sub.sas7bdat')"
   ]
  },
  {
   "cell_type": "code",
   "execution_count": 39,
   "metadata": {
    "editable": true
   },
   "outputs": [
    {
     "data": {
      "text/html": [
       "<div>\n",
       "<style scoped>\n",
       "    .dataframe tbody tr th:only-of-type {\n",
       "        vertical-align: middle;\n",
       "    }\n",
       "\n",
       "    .dataframe tbody tr th {\n",
       "        vertical-align: top;\n",
       "    }\n",
       "\n",
       "    .dataframe thead th {\n",
       "        text-align: right;\n",
       "    }\n",
       "</style>\n",
       "<table border=\"1\" class=\"dataframe\">\n",
       "  <thead>\n",
       "    <tr style=\"text-align: right;\">\n",
       "      <th></th>\n",
       "      <th>cicid</th>\n",
       "      <th>i94yr</th>\n",
       "      <th>i94mon</th>\n",
       "      <th>i94cit</th>\n",
       "      <th>i94res</th>\n",
       "      <th>i94port</th>\n",
       "      <th>arrdate</th>\n",
       "      <th>i94mode</th>\n",
       "      <th>i94addr</th>\n",
       "      <th>depdate</th>\n",
       "      <th>...</th>\n",
       "      <th>entdepu</th>\n",
       "      <th>matflag</th>\n",
       "      <th>biryear</th>\n",
       "      <th>dtaddto</th>\n",
       "      <th>gender</th>\n",
       "      <th>insnum</th>\n",
       "      <th>airline</th>\n",
       "      <th>admnum</th>\n",
       "      <th>fltno</th>\n",
       "      <th>visatype</th>\n",
       "    </tr>\n",
       "  </thead>\n",
       "  <tbody>\n",
       "    <tr>\n",
       "      <th>0</th>\n",
       "      <td>6.0</td>\n",
       "      <td>2016.0</td>\n",
       "      <td>4.0</td>\n",
       "      <td>692.0</td>\n",
       "      <td>692.0</td>\n",
       "      <td>XXX</td>\n",
       "      <td>20573.0</td>\n",
       "      <td>NaN</td>\n",
       "      <td>None</td>\n",
       "      <td>NaN</td>\n",
       "      <td>...</td>\n",
       "      <td>U</td>\n",
       "      <td>None</td>\n",
       "      <td>1979.0</td>\n",
       "      <td>10282016</td>\n",
       "      <td>None</td>\n",
       "      <td>None</td>\n",
       "      <td>None</td>\n",
       "      <td>1.897628e+09</td>\n",
       "      <td>None</td>\n",
       "      <td>B2</td>\n",
       "    </tr>\n",
       "    <tr>\n",
       "      <th>1</th>\n",
       "      <td>7.0</td>\n",
       "      <td>2016.0</td>\n",
       "      <td>4.0</td>\n",
       "      <td>254.0</td>\n",
       "      <td>276.0</td>\n",
       "      <td>ATL</td>\n",
       "      <td>20551.0</td>\n",
       "      <td>1.0</td>\n",
       "      <td>AL</td>\n",
       "      <td>NaN</td>\n",
       "      <td>...</td>\n",
       "      <td>Y</td>\n",
       "      <td>None</td>\n",
       "      <td>1991.0</td>\n",
       "      <td>D/S</td>\n",
       "      <td>M</td>\n",
       "      <td>None</td>\n",
       "      <td>None</td>\n",
       "      <td>3.736796e+09</td>\n",
       "      <td>00296</td>\n",
       "      <td>F1</td>\n",
       "    </tr>\n",
       "    <tr>\n",
       "      <th>2</th>\n",
       "      <td>15.0</td>\n",
       "      <td>2016.0</td>\n",
       "      <td>4.0</td>\n",
       "      <td>101.0</td>\n",
       "      <td>101.0</td>\n",
       "      <td>WAS</td>\n",
       "      <td>20545.0</td>\n",
       "      <td>1.0</td>\n",
       "      <td>MI</td>\n",
       "      <td>20691.0</td>\n",
       "      <td>...</td>\n",
       "      <td>None</td>\n",
       "      <td>M</td>\n",
       "      <td>1961.0</td>\n",
       "      <td>09302016</td>\n",
       "      <td>M</td>\n",
       "      <td>None</td>\n",
       "      <td>OS</td>\n",
       "      <td>6.666432e+08</td>\n",
       "      <td>93</td>\n",
       "      <td>B2</td>\n",
       "    </tr>\n",
       "    <tr>\n",
       "      <th>3</th>\n",
       "      <td>16.0</td>\n",
       "      <td>2016.0</td>\n",
       "      <td>4.0</td>\n",
       "      <td>101.0</td>\n",
       "      <td>101.0</td>\n",
       "      <td>NYC</td>\n",
       "      <td>20545.0</td>\n",
       "      <td>1.0</td>\n",
       "      <td>MA</td>\n",
       "      <td>20567.0</td>\n",
       "      <td>...</td>\n",
       "      <td>None</td>\n",
       "      <td>M</td>\n",
       "      <td>1988.0</td>\n",
       "      <td>09302016</td>\n",
       "      <td>None</td>\n",
       "      <td>None</td>\n",
       "      <td>AA</td>\n",
       "      <td>9.246846e+10</td>\n",
       "      <td>00199</td>\n",
       "      <td>B2</td>\n",
       "    </tr>\n",
       "    <tr>\n",
       "      <th>4</th>\n",
       "      <td>17.0</td>\n",
       "      <td>2016.0</td>\n",
       "      <td>4.0</td>\n",
       "      <td>101.0</td>\n",
       "      <td>101.0</td>\n",
       "      <td>NYC</td>\n",
       "      <td>20545.0</td>\n",
       "      <td>1.0</td>\n",
       "      <td>MA</td>\n",
       "      <td>20567.0</td>\n",
       "      <td>...</td>\n",
       "      <td>None</td>\n",
       "      <td>M</td>\n",
       "      <td>2012.0</td>\n",
       "      <td>09302016</td>\n",
       "      <td>None</td>\n",
       "      <td>None</td>\n",
       "      <td>AA</td>\n",
       "      <td>9.246846e+10</td>\n",
       "      <td>00199</td>\n",
       "      <td>B2</td>\n",
       "    </tr>\n",
       "    <tr>\n",
       "      <th>5</th>\n",
       "      <td>18.0</td>\n",
       "      <td>2016.0</td>\n",
       "      <td>4.0</td>\n",
       "      <td>101.0</td>\n",
       "      <td>101.0</td>\n",
       "      <td>NYC</td>\n",
       "      <td>20545.0</td>\n",
       "      <td>1.0</td>\n",
       "      <td>MI</td>\n",
       "      <td>20555.0</td>\n",
       "      <td>...</td>\n",
       "      <td>None</td>\n",
       "      <td>M</td>\n",
       "      <td>1959.0</td>\n",
       "      <td>09302016</td>\n",
       "      <td>None</td>\n",
       "      <td>None</td>\n",
       "      <td>AZ</td>\n",
       "      <td>9.247104e+10</td>\n",
       "      <td>00602</td>\n",
       "      <td>B1</td>\n",
       "    </tr>\n",
       "    <tr>\n",
       "      <th>6</th>\n",
       "      <td>19.0</td>\n",
       "      <td>2016.0</td>\n",
       "      <td>4.0</td>\n",
       "      <td>101.0</td>\n",
       "      <td>101.0</td>\n",
       "      <td>NYC</td>\n",
       "      <td>20545.0</td>\n",
       "      <td>1.0</td>\n",
       "      <td>NJ</td>\n",
       "      <td>20558.0</td>\n",
       "      <td>...</td>\n",
       "      <td>None</td>\n",
       "      <td>M</td>\n",
       "      <td>1953.0</td>\n",
       "      <td>09302016</td>\n",
       "      <td>None</td>\n",
       "      <td>None</td>\n",
       "      <td>AZ</td>\n",
       "      <td>9.247140e+10</td>\n",
       "      <td>00602</td>\n",
       "      <td>B2</td>\n",
       "    </tr>\n",
       "    <tr>\n",
       "      <th>7</th>\n",
       "      <td>20.0</td>\n",
       "      <td>2016.0</td>\n",
       "      <td>4.0</td>\n",
       "      <td>101.0</td>\n",
       "      <td>101.0</td>\n",
       "      <td>NYC</td>\n",
       "      <td>20545.0</td>\n",
       "      <td>1.0</td>\n",
       "      <td>NJ</td>\n",
       "      <td>20558.0</td>\n",
       "      <td>...</td>\n",
       "      <td>None</td>\n",
       "      <td>M</td>\n",
       "      <td>1959.0</td>\n",
       "      <td>09302016</td>\n",
       "      <td>None</td>\n",
       "      <td>None</td>\n",
       "      <td>AZ</td>\n",
       "      <td>9.247161e+10</td>\n",
       "      <td>00602</td>\n",
       "      <td>B2</td>\n",
       "    </tr>\n",
       "    <tr>\n",
       "      <th>8</th>\n",
       "      <td>21.0</td>\n",
       "      <td>2016.0</td>\n",
       "      <td>4.0</td>\n",
       "      <td>101.0</td>\n",
       "      <td>101.0</td>\n",
       "      <td>NYC</td>\n",
       "      <td>20545.0</td>\n",
       "      <td>1.0</td>\n",
       "      <td>NY</td>\n",
       "      <td>20553.0</td>\n",
       "      <td>...</td>\n",
       "      <td>None</td>\n",
       "      <td>M</td>\n",
       "      <td>1970.0</td>\n",
       "      <td>09302016</td>\n",
       "      <td>None</td>\n",
       "      <td>None</td>\n",
       "      <td>AZ</td>\n",
       "      <td>9.247080e+10</td>\n",
       "      <td>00602</td>\n",
       "      <td>B2</td>\n",
       "    </tr>\n",
       "    <tr>\n",
       "      <th>9</th>\n",
       "      <td>22.0</td>\n",
       "      <td>2016.0</td>\n",
       "      <td>4.0</td>\n",
       "      <td>101.0</td>\n",
       "      <td>101.0</td>\n",
       "      <td>NYC</td>\n",
       "      <td>20545.0</td>\n",
       "      <td>1.0</td>\n",
       "      <td>NY</td>\n",
       "      <td>20562.0</td>\n",
       "      <td>...</td>\n",
       "      <td>None</td>\n",
       "      <td>M</td>\n",
       "      <td>1968.0</td>\n",
       "      <td>09302016</td>\n",
       "      <td>None</td>\n",
       "      <td>None</td>\n",
       "      <td>AZ</td>\n",
       "      <td>9.247849e+10</td>\n",
       "      <td>00608</td>\n",
       "      <td>B1</td>\n",
       "    </tr>\n",
       "  </tbody>\n",
       "</table>\n",
       "<p>10 rows × 28 columns</p>\n",
       "</div>"
      ],
      "text/plain": [
       "   cicid   i94yr  i94mon  i94cit  i94res i94port  arrdate  i94mode i94addr  \\\n",
       "0    6.0  2016.0     4.0   692.0   692.0     XXX  20573.0      NaN    None   \n",
       "1    7.0  2016.0     4.0   254.0   276.0     ATL  20551.0      1.0      AL   \n",
       "2   15.0  2016.0     4.0   101.0   101.0     WAS  20545.0      1.0      MI   \n",
       "3   16.0  2016.0     4.0   101.0   101.0     NYC  20545.0      1.0      MA   \n",
       "4   17.0  2016.0     4.0   101.0   101.0     NYC  20545.0      1.0      MA   \n",
       "5   18.0  2016.0     4.0   101.0   101.0     NYC  20545.0      1.0      MI   \n",
       "6   19.0  2016.0     4.0   101.0   101.0     NYC  20545.0      1.0      NJ   \n",
       "7   20.0  2016.0     4.0   101.0   101.0     NYC  20545.0      1.0      NJ   \n",
       "8   21.0  2016.0     4.0   101.0   101.0     NYC  20545.0      1.0      NY   \n",
       "9   22.0  2016.0     4.0   101.0   101.0     NYC  20545.0      1.0      NY   \n",
       "\n",
       "   depdate   ...     entdepu  matflag  biryear   dtaddto gender insnum  \\\n",
       "0      NaN   ...           U     None   1979.0  10282016   None   None   \n",
       "1      NaN   ...           Y     None   1991.0       D/S      M   None   \n",
       "2  20691.0   ...        None        M   1961.0  09302016      M   None   \n",
       "3  20567.0   ...        None        M   1988.0  09302016   None   None   \n",
       "4  20567.0   ...        None        M   2012.0  09302016   None   None   \n",
       "5  20555.0   ...        None        M   1959.0  09302016   None   None   \n",
       "6  20558.0   ...        None        M   1953.0  09302016   None   None   \n",
       "7  20558.0   ...        None        M   1959.0  09302016   None   None   \n",
       "8  20553.0   ...        None        M   1970.0  09302016   None   None   \n",
       "9  20562.0   ...        None        M   1968.0  09302016   None   None   \n",
       "\n",
       "  airline        admnum  fltno visatype  \n",
       "0    None  1.897628e+09   None       B2  \n",
       "1    None  3.736796e+09  00296       F1  \n",
       "2      OS  6.666432e+08     93       B2  \n",
       "3      AA  9.246846e+10  00199       B2  \n",
       "4      AA  9.246846e+10  00199       B2  \n",
       "5      AZ  9.247104e+10  00602       B1  \n",
       "6      AZ  9.247140e+10  00602       B2  \n",
       "7      AZ  9.247161e+10  00602       B2  \n",
       "8      AZ  9.247080e+10  00602       B2  \n",
       "9      AZ  9.247849e+10  00608       B1  \n",
       "\n",
       "[10 rows x 28 columns]"
      ]
     },
     "execution_count": 39,
     "metadata": {},
     "output_type": "execute_result"
    }
   ],
   "source": [
    "stg_immigration_df.limit(10).toPandas()"
   ]
  },
  {
   "cell_type": "code",
   "execution_count": 40,
   "metadata": {
    "editable": true
   },
   "outputs": [
    {
     "name": "stdout",
     "output_type": "stream",
     "text": [
      "root\n",
      " |-- cicid: double (nullable = true)\n",
      " |-- i94yr: double (nullable = true)\n",
      " |-- i94mon: double (nullable = true)\n",
      " |-- i94cit: double (nullable = true)\n",
      " |-- i94res: double (nullable = true)\n",
      " |-- i94port: string (nullable = true)\n",
      " |-- arrdate: double (nullable = true)\n",
      " |-- i94mode: double (nullable = true)\n",
      " |-- i94addr: string (nullable = true)\n",
      " |-- depdate: double (nullable = true)\n",
      " |-- i94bir: double (nullable = true)\n",
      " |-- i94visa: double (nullable = true)\n",
      " |-- count: double (nullable = true)\n",
      " |-- dtadfile: string (nullable = true)\n",
      " |-- visapost: string (nullable = true)\n",
      " |-- occup: string (nullable = true)\n",
      " |-- entdepa: string (nullable = true)\n",
      " |-- entdepd: string (nullable = true)\n",
      " |-- entdepu: string (nullable = true)\n",
      " |-- matflag: string (nullable = true)\n",
      " |-- biryear: double (nullable = true)\n",
      " |-- dtaddto: string (nullable = true)\n",
      " |-- gender: string (nullable = true)\n",
      " |-- insnum: string (nullable = true)\n",
      " |-- airline: string (nullable = true)\n",
      " |-- admnum: double (nullable = true)\n",
      " |-- fltno: string (nullable = true)\n",
      " |-- visatype: string (nullable = true)\n",
      "\n"
     ]
    }
   ],
   "source": [
    "stg_immigration_df.printSchema()"
   ]
  },
  {
   "cell_type": "code",
   "execution_count": 41,
   "metadata": {
    "editable": true
   },
   "outputs": [],
   "source": [
    "stg_immigration_df.createOrReplaceTempView(\"stg_immigration_transactions\")"
   ]
  },
  {
   "cell_type": "markdown",
   "metadata": {
    "editable": true
   },
   "source": [
    "Read Airport Data"
   ]
  },
  {
   "cell_type": "code",
   "execution_count": 42,
   "metadata": {
    "editable": true
   },
   "outputs": [],
   "source": [
    "stg_airport_schema = StructType([\n",
    "        StructField('ident', StringType()),\n",
    "        StructField('type', StringType()),\n",
    "        StructField('name', StringType()),\n",
    "        StructField('elevation_ft', IntegerType()),\n",
    "        StructField('continent', StringType()),\n",
    "        StructField('iso_country', StringType()),\n",
    "        StructField('iso_region', StringType()),\n",
    "        StructField('municipality', StringType()),\n",
    "        StructField('gps_code', StringType()),\n",
    "        StructField('iata_code', StringType()),\n",
    "        StructField('local_code', StringType()),\n",
    "        StructField('coordinates', StringType())\n",
    "    ])"
   ]
  },
  {
   "cell_type": "code",
   "execution_count": 43,
   "metadata": {
    "editable": true
   },
   "outputs": [],
   "source": [
    "stg_airport_df =spark.read.csv('{}/airport-codes_csv.csv'.format(landing_zone_path),header=True,schema=stg_airport_schema)"
   ]
  },
  {
   "cell_type": "code",
   "execution_count": 44,
   "metadata": {
    "editable": true
   },
   "outputs": [
    {
     "data": {
      "text/html": [
       "<div>\n",
       "<style scoped>\n",
       "    .dataframe tbody tr th:only-of-type {\n",
       "        vertical-align: middle;\n",
       "    }\n",
       "\n",
       "    .dataframe tbody tr th {\n",
       "        vertical-align: top;\n",
       "    }\n",
       "\n",
       "    .dataframe thead th {\n",
       "        text-align: right;\n",
       "    }\n",
       "</style>\n",
       "<table border=\"1\" class=\"dataframe\">\n",
       "  <thead>\n",
       "    <tr style=\"text-align: right;\">\n",
       "      <th></th>\n",
       "      <th>ident</th>\n",
       "      <th>type</th>\n",
       "      <th>name</th>\n",
       "      <th>elevation_ft</th>\n",
       "      <th>continent</th>\n",
       "      <th>iso_country</th>\n",
       "      <th>iso_region</th>\n",
       "      <th>municipality</th>\n",
       "      <th>gps_code</th>\n",
       "      <th>iata_code</th>\n",
       "      <th>local_code</th>\n",
       "      <th>coordinates</th>\n",
       "    </tr>\n",
       "  </thead>\n",
       "  <tbody>\n",
       "    <tr>\n",
       "      <th>0</th>\n",
       "      <td>00A</td>\n",
       "      <td>heliport</td>\n",
       "      <td>Total Rf Heliport</td>\n",
       "      <td>11</td>\n",
       "      <td>NA</td>\n",
       "      <td>US</td>\n",
       "      <td>US-PA</td>\n",
       "      <td>Bensalem</td>\n",
       "      <td>00A</td>\n",
       "      <td>None</td>\n",
       "      <td>00A</td>\n",
       "      <td>-74.93360137939453, 40.07080078125</td>\n",
       "    </tr>\n",
       "    <tr>\n",
       "      <th>1</th>\n",
       "      <td>00AA</td>\n",
       "      <td>small_airport</td>\n",
       "      <td>Aero B Ranch Airport</td>\n",
       "      <td>3435</td>\n",
       "      <td>NA</td>\n",
       "      <td>US</td>\n",
       "      <td>US-KS</td>\n",
       "      <td>Leoti</td>\n",
       "      <td>00AA</td>\n",
       "      <td>None</td>\n",
       "      <td>00AA</td>\n",
       "      <td>-101.473911, 38.704022</td>\n",
       "    </tr>\n",
       "    <tr>\n",
       "      <th>2</th>\n",
       "      <td>00AK</td>\n",
       "      <td>small_airport</td>\n",
       "      <td>Lowell Field</td>\n",
       "      <td>450</td>\n",
       "      <td>NA</td>\n",
       "      <td>US</td>\n",
       "      <td>US-AK</td>\n",
       "      <td>Anchor Point</td>\n",
       "      <td>00AK</td>\n",
       "      <td>None</td>\n",
       "      <td>00AK</td>\n",
       "      <td>-151.695999146, 59.94919968</td>\n",
       "    </tr>\n",
       "    <tr>\n",
       "      <th>3</th>\n",
       "      <td>00AL</td>\n",
       "      <td>small_airport</td>\n",
       "      <td>Epps Airpark</td>\n",
       "      <td>820</td>\n",
       "      <td>NA</td>\n",
       "      <td>US</td>\n",
       "      <td>US-AL</td>\n",
       "      <td>Harvest</td>\n",
       "      <td>00AL</td>\n",
       "      <td>None</td>\n",
       "      <td>00AL</td>\n",
       "      <td>-86.77030181884766, 34.86479949951172</td>\n",
       "    </tr>\n",
       "    <tr>\n",
       "      <th>4</th>\n",
       "      <td>00AR</td>\n",
       "      <td>closed</td>\n",
       "      <td>Newport Hospital &amp; Clinic Heliport</td>\n",
       "      <td>237</td>\n",
       "      <td>NA</td>\n",
       "      <td>US</td>\n",
       "      <td>US-AR</td>\n",
       "      <td>Newport</td>\n",
       "      <td>None</td>\n",
       "      <td>None</td>\n",
       "      <td>None</td>\n",
       "      <td>-91.254898, 35.6087</td>\n",
       "    </tr>\n",
       "    <tr>\n",
       "      <th>5</th>\n",
       "      <td>00AS</td>\n",
       "      <td>small_airport</td>\n",
       "      <td>Fulton Airport</td>\n",
       "      <td>1100</td>\n",
       "      <td>NA</td>\n",
       "      <td>US</td>\n",
       "      <td>US-OK</td>\n",
       "      <td>Alex</td>\n",
       "      <td>00AS</td>\n",
       "      <td>None</td>\n",
       "      <td>00AS</td>\n",
       "      <td>-97.8180194, 34.9428028</td>\n",
       "    </tr>\n",
       "    <tr>\n",
       "      <th>6</th>\n",
       "      <td>00AZ</td>\n",
       "      <td>small_airport</td>\n",
       "      <td>Cordes Airport</td>\n",
       "      <td>3810</td>\n",
       "      <td>NA</td>\n",
       "      <td>US</td>\n",
       "      <td>US-AZ</td>\n",
       "      <td>Cordes</td>\n",
       "      <td>00AZ</td>\n",
       "      <td>None</td>\n",
       "      <td>00AZ</td>\n",
       "      <td>-112.16500091552734, 34.305599212646484</td>\n",
       "    </tr>\n",
       "    <tr>\n",
       "      <th>7</th>\n",
       "      <td>00CA</td>\n",
       "      <td>small_airport</td>\n",
       "      <td>Goldstone /Gts/ Airport</td>\n",
       "      <td>3038</td>\n",
       "      <td>NA</td>\n",
       "      <td>US</td>\n",
       "      <td>US-CA</td>\n",
       "      <td>Barstow</td>\n",
       "      <td>00CA</td>\n",
       "      <td>None</td>\n",
       "      <td>00CA</td>\n",
       "      <td>-116.888000488, 35.350498199499995</td>\n",
       "    </tr>\n",
       "    <tr>\n",
       "      <th>8</th>\n",
       "      <td>00CL</td>\n",
       "      <td>small_airport</td>\n",
       "      <td>Williams Ag Airport</td>\n",
       "      <td>87</td>\n",
       "      <td>NA</td>\n",
       "      <td>US</td>\n",
       "      <td>US-CA</td>\n",
       "      <td>Biggs</td>\n",
       "      <td>00CL</td>\n",
       "      <td>None</td>\n",
       "      <td>00CL</td>\n",
       "      <td>-121.763427, 39.427188</td>\n",
       "    </tr>\n",
       "    <tr>\n",
       "      <th>9</th>\n",
       "      <td>00CN</td>\n",
       "      <td>heliport</td>\n",
       "      <td>Kitchen Creek Helibase Heliport</td>\n",
       "      <td>3350</td>\n",
       "      <td>NA</td>\n",
       "      <td>US</td>\n",
       "      <td>US-CA</td>\n",
       "      <td>Pine Valley</td>\n",
       "      <td>00CN</td>\n",
       "      <td>None</td>\n",
       "      <td>00CN</td>\n",
       "      <td>-116.4597417, 32.7273736</td>\n",
       "    </tr>\n",
       "  </tbody>\n",
       "</table>\n",
       "</div>"
      ],
      "text/plain": [
       "  ident           type                                name  elevation_ft  \\\n",
       "0   00A       heliport                   Total Rf Heliport            11   \n",
       "1  00AA  small_airport                Aero B Ranch Airport          3435   \n",
       "2  00AK  small_airport                        Lowell Field           450   \n",
       "3  00AL  small_airport                        Epps Airpark           820   \n",
       "4  00AR         closed  Newport Hospital & Clinic Heliport           237   \n",
       "5  00AS  small_airport                      Fulton Airport          1100   \n",
       "6  00AZ  small_airport                      Cordes Airport          3810   \n",
       "7  00CA  small_airport             Goldstone /Gts/ Airport          3038   \n",
       "8  00CL  small_airport                 Williams Ag Airport            87   \n",
       "9  00CN       heliport     Kitchen Creek Helibase Heliport          3350   \n",
       "\n",
       "  continent iso_country iso_region  municipality gps_code iata_code  \\\n",
       "0        NA          US      US-PA      Bensalem      00A      None   \n",
       "1        NA          US      US-KS         Leoti     00AA      None   \n",
       "2        NA          US      US-AK  Anchor Point     00AK      None   \n",
       "3        NA          US      US-AL       Harvest     00AL      None   \n",
       "4        NA          US      US-AR       Newport     None      None   \n",
       "5        NA          US      US-OK          Alex     00AS      None   \n",
       "6        NA          US      US-AZ        Cordes     00AZ      None   \n",
       "7        NA          US      US-CA       Barstow     00CA      None   \n",
       "8        NA          US      US-CA         Biggs     00CL      None   \n",
       "9        NA          US      US-CA   Pine Valley     00CN      None   \n",
       "\n",
       "  local_code                              coordinates  \n",
       "0        00A       -74.93360137939453, 40.07080078125  \n",
       "1       00AA                   -101.473911, 38.704022  \n",
       "2       00AK              -151.695999146, 59.94919968  \n",
       "3       00AL    -86.77030181884766, 34.86479949951172  \n",
       "4       None                      -91.254898, 35.6087  \n",
       "5       00AS                  -97.8180194, 34.9428028  \n",
       "6       00AZ  -112.16500091552734, 34.305599212646484  \n",
       "7       00CA       -116.888000488, 35.350498199499995  \n",
       "8       00CL                   -121.763427, 39.427188  \n",
       "9       00CN                 -116.4597417, 32.7273736  "
      ]
     },
     "execution_count": 44,
     "metadata": {},
     "output_type": "execute_result"
    }
   ],
   "source": [
    "stg_airport_df.limit(10).toPandas()"
   ]
  },
  {
   "cell_type": "code",
   "execution_count": 45,
   "metadata": {
    "editable": true
   },
   "outputs": [
    {
     "name": "stdout",
     "output_type": "stream",
     "text": [
      "root\n",
      " |-- ident: string (nullable = true)\n",
      " |-- type: string (nullable = true)\n",
      " |-- name: string (nullable = true)\n",
      " |-- elevation_ft: integer (nullable = true)\n",
      " |-- continent: string (nullable = true)\n",
      " |-- iso_country: string (nullable = true)\n",
      " |-- iso_region: string (nullable = true)\n",
      " |-- municipality: string (nullable = true)\n",
      " |-- gps_code: string (nullable = true)\n",
      " |-- iata_code: string (nullable = true)\n",
      " |-- local_code: string (nullable = true)\n",
      " |-- coordinates: string (nullable = true)\n",
      "\n"
     ]
    }
   ],
   "source": [
    "stg_airport_df.printSchema()"
   ]
  },
  {
   "cell_type": "code",
   "execution_count": 46,
   "metadata": {
    "editable": true
   },
   "outputs": [],
   "source": [
    "stg_airport_df.createOrReplaceTempView(\"stg_airport_prep\")"
   ]
  },
  {
   "cell_type": "code",
   "execution_count": 47,
   "metadata": {
    "editable": true
   },
   "outputs": [
    {
     "data": {
      "text/plain": [
       "DataFrame[]"
      ]
     },
     "execution_count": 47,
     "metadata": {},
     "output_type": "execute_result"
    }
   ],
   "source": [
    "spark.sql('Drop table if exists stg_airport')"
   ]
  },
  {
   "cell_type": "markdown",
   "metadata": {
    "editable": true
   },
   "source": [
    "Prepare and clense Airport Table"
   ]
  },
  {
   "cell_type": "code",
   "execution_count": 48,
   "metadata": {
    "editable": true
   },
   "outputs": [
    {
     "data": {
      "text/html": [
       "<div>\n",
       "<style scoped>\n",
       "    .dataframe tbody tr th:only-of-type {\n",
       "        vertical-align: middle;\n",
       "    }\n",
       "\n",
       "    .dataframe tbody tr th {\n",
       "        vertical-align: top;\n",
       "    }\n",
       "\n",
       "    .dataframe thead th {\n",
       "        text-align: right;\n",
       "    }\n",
       "</style>\n",
       "<table border=\"1\" class=\"dataframe\">\n",
       "  <thead>\n",
       "    <tr style=\"text-align: right;\">\n",
       "      <th></th>\n",
       "    </tr>\n",
       "  </thead>\n",
       "  <tbody>\n",
       "  </tbody>\n",
       "</table>\n",
       "</div>"
      ],
      "text/plain": [
       "Empty DataFrame\n",
       "Columns: []\n",
       "Index: []"
      ]
     },
     "execution_count": 48,
     "metadata": {},
     "output_type": "execute_result"
    }
   ],
   "source": [
    "spark.sql('create table stg_airport as SELECT name,type,elevation_ft,iso_region,municipality,gps_code,iata_code,local_code ,coordinates  \\\n",
    "          FROM stg_airport_prep where iso_country=\"US\" and local_code is not null \\\n",
    "           ').toPandas()"
   ]
  },
  {
   "cell_type": "code",
   "execution_count": 49,
   "metadata": {
    "editable": true
   },
   "outputs": [
    {
     "data": {
      "text/html": [
       "<div>\n",
       "<style scoped>\n",
       "    .dataframe tbody tr th:only-of-type {\n",
       "        vertical-align: middle;\n",
       "    }\n",
       "\n",
       "    .dataframe tbody tr th {\n",
       "        vertical-align: top;\n",
       "    }\n",
       "\n",
       "    .dataframe thead th {\n",
       "        text-align: right;\n",
       "    }\n",
       "</style>\n",
       "<table border=\"1\" class=\"dataframe\">\n",
       "  <thead>\n",
       "    <tr style=\"text-align: right;\">\n",
       "      <th></th>\n",
       "      <th>name</th>\n",
       "      <th>type</th>\n",
       "      <th>elevation_ft</th>\n",
       "      <th>iso_region</th>\n",
       "      <th>municipality</th>\n",
       "      <th>gps_code</th>\n",
       "      <th>iata_code</th>\n",
       "      <th>local_code</th>\n",
       "      <th>coordinates</th>\n",
       "    </tr>\n",
       "  </thead>\n",
       "  <tbody>\n",
       "    <tr>\n",
       "      <th>0</th>\n",
       "      <td>Total Rf Heliport</td>\n",
       "      <td>heliport</td>\n",
       "      <td>11.0</td>\n",
       "      <td>US-PA</td>\n",
       "      <td>Bensalem</td>\n",
       "      <td>00A</td>\n",
       "      <td>None</td>\n",
       "      <td>00A</td>\n",
       "      <td>-74.93360137939453, 40.07080078125</td>\n",
       "    </tr>\n",
       "    <tr>\n",
       "      <th>1</th>\n",
       "      <td>Aero B Ranch Airport</td>\n",
       "      <td>small_airport</td>\n",
       "      <td>3435.0</td>\n",
       "      <td>US-KS</td>\n",
       "      <td>Leoti</td>\n",
       "      <td>00AA</td>\n",
       "      <td>None</td>\n",
       "      <td>00AA</td>\n",
       "      <td>-101.473911, 38.704022</td>\n",
       "    </tr>\n",
       "    <tr>\n",
       "      <th>2</th>\n",
       "      <td>Lowell Field</td>\n",
       "      <td>small_airport</td>\n",
       "      <td>450.0</td>\n",
       "      <td>US-AK</td>\n",
       "      <td>Anchor Point</td>\n",
       "      <td>00AK</td>\n",
       "      <td>None</td>\n",
       "      <td>00AK</td>\n",
       "      <td>-151.695999146, 59.94919968</td>\n",
       "    </tr>\n",
       "    <tr>\n",
       "      <th>3</th>\n",
       "      <td>Epps Airpark</td>\n",
       "      <td>small_airport</td>\n",
       "      <td>820.0</td>\n",
       "      <td>US-AL</td>\n",
       "      <td>Harvest</td>\n",
       "      <td>00AL</td>\n",
       "      <td>None</td>\n",
       "      <td>00AL</td>\n",
       "      <td>-86.77030181884766, 34.86479949951172</td>\n",
       "    </tr>\n",
       "    <tr>\n",
       "      <th>4</th>\n",
       "      <td>Fulton Airport</td>\n",
       "      <td>small_airport</td>\n",
       "      <td>1100.0</td>\n",
       "      <td>US-OK</td>\n",
       "      <td>Alex</td>\n",
       "      <td>00AS</td>\n",
       "      <td>None</td>\n",
       "      <td>00AS</td>\n",
       "      <td>-97.8180194, 34.9428028</td>\n",
       "    </tr>\n",
       "    <tr>\n",
       "      <th>5</th>\n",
       "      <td>Cordes Airport</td>\n",
       "      <td>small_airport</td>\n",
       "      <td>3810.0</td>\n",
       "      <td>US-AZ</td>\n",
       "      <td>Cordes</td>\n",
       "      <td>00AZ</td>\n",
       "      <td>None</td>\n",
       "      <td>00AZ</td>\n",
       "      <td>-112.16500091552734, 34.305599212646484</td>\n",
       "    </tr>\n",
       "    <tr>\n",
       "      <th>6</th>\n",
       "      <td>Goldstone /Gts/ Airport</td>\n",
       "      <td>small_airport</td>\n",
       "      <td>3038.0</td>\n",
       "      <td>US-CA</td>\n",
       "      <td>Barstow</td>\n",
       "      <td>00CA</td>\n",
       "      <td>None</td>\n",
       "      <td>00CA</td>\n",
       "      <td>-116.888000488, 35.350498199499995</td>\n",
       "    </tr>\n",
       "    <tr>\n",
       "      <th>7</th>\n",
       "      <td>Williams Ag Airport</td>\n",
       "      <td>small_airport</td>\n",
       "      <td>87.0</td>\n",
       "      <td>US-CA</td>\n",
       "      <td>Biggs</td>\n",
       "      <td>00CL</td>\n",
       "      <td>None</td>\n",
       "      <td>00CL</td>\n",
       "      <td>-121.763427, 39.427188</td>\n",
       "    </tr>\n",
       "    <tr>\n",
       "      <th>8</th>\n",
       "      <td>Kitchen Creek Helibase Heliport</td>\n",
       "      <td>heliport</td>\n",
       "      <td>3350.0</td>\n",
       "      <td>US-CA</td>\n",
       "      <td>Pine Valley</td>\n",
       "      <td>00CN</td>\n",
       "      <td>None</td>\n",
       "      <td>00CN</td>\n",
       "      <td>-116.4597417, 32.7273736</td>\n",
       "    </tr>\n",
       "    <tr>\n",
       "      <th>9</th>\n",
       "      <td>Grass Patch Airport</td>\n",
       "      <td>small_airport</td>\n",
       "      <td>53.0</td>\n",
       "      <td>US-FL</td>\n",
       "      <td>Bushnell</td>\n",
       "      <td>00FA</td>\n",
       "      <td>None</td>\n",
       "      <td>00FA</td>\n",
       "      <td>-82.21900177001953, 28.64550018310547</td>\n",
       "    </tr>\n",
       "    <tr>\n",
       "      <th>10</th>\n",
       "      <td>Ringhaver Heliport</td>\n",
       "      <td>heliport</td>\n",
       "      <td>25.0</td>\n",
       "      <td>US-FL</td>\n",
       "      <td>Riverview</td>\n",
       "      <td>00FD</td>\n",
       "      <td>None</td>\n",
       "      <td>00FD</td>\n",
       "      <td>-82.34539794921875, 28.846599578857422</td>\n",
       "    </tr>\n",
       "    <tr>\n",
       "      <th>11</th>\n",
       "      <td>River Oak Airport</td>\n",
       "      <td>small_airport</td>\n",
       "      <td>35.0</td>\n",
       "      <td>US-FL</td>\n",
       "      <td>Okeechobee</td>\n",
       "      <td>00FL</td>\n",
       "      <td>None</td>\n",
       "      <td>00FL</td>\n",
       "      <td>-80.96920013427734, 27.230899810791016</td>\n",
       "    </tr>\n",
       "    <tr>\n",
       "      <th>12</th>\n",
       "      <td>Lt World Airport</td>\n",
       "      <td>small_airport</td>\n",
       "      <td>700.0</td>\n",
       "      <td>US-GA</td>\n",
       "      <td>Lithonia</td>\n",
       "      <td>00GA</td>\n",
       "      <td>None</td>\n",
       "      <td>00GA</td>\n",
       "      <td>-84.06829833984375, 33.76750183105469</td>\n",
       "    </tr>\n",
       "    <tr>\n",
       "      <th>13</th>\n",
       "      <td>Caffrey Heliport</td>\n",
       "      <td>heliport</td>\n",
       "      <td>957.0</td>\n",
       "      <td>US-GA</td>\n",
       "      <td>Hiram</td>\n",
       "      <td>00GE</td>\n",
       "      <td>None</td>\n",
       "      <td>00GE</td>\n",
       "      <td>-84.73390197753906, 33.88420104980469</td>\n",
       "    </tr>\n",
       "    <tr>\n",
       "      <th>14</th>\n",
       "      <td>Kaupulehu Heliport</td>\n",
       "      <td>heliport</td>\n",
       "      <td>43.0</td>\n",
       "      <td>US-HI</td>\n",
       "      <td>Kailua/Kona</td>\n",
       "      <td>00HI</td>\n",
       "      <td>None</td>\n",
       "      <td>00HI</td>\n",
       "      <td>-155.980233, 19.832715</td>\n",
       "    </tr>\n",
       "    <tr>\n",
       "      <th>15</th>\n",
       "      <td>Delta Shores Airport</td>\n",
       "      <td>small_airport</td>\n",
       "      <td>2064.0</td>\n",
       "      <td>US-ID</td>\n",
       "      <td>Clark Fork</td>\n",
       "      <td>00ID</td>\n",
       "      <td>None</td>\n",
       "      <td>00ID</td>\n",
       "      <td>-116.21399688720703, 48.145301818847656</td>\n",
       "    </tr>\n",
       "    <tr>\n",
       "      <th>16</th>\n",
       "      <td>Goltl Airport</td>\n",
       "      <td>small_airport</td>\n",
       "      <td>3359.0</td>\n",
       "      <td>US-KS</td>\n",
       "      <td>McDonald</td>\n",
       "      <td>00IG</td>\n",
       "      <td>None</td>\n",
       "      <td>00IG</td>\n",
       "      <td>-101.395994, 39.724028</td>\n",
       "    </tr>\n",
       "    <tr>\n",
       "      <th>17</th>\n",
       "      <td>Bailey Generation Station Heliport</td>\n",
       "      <td>heliport</td>\n",
       "      <td>600.0</td>\n",
       "      <td>US-IN</td>\n",
       "      <td>Chesterton</td>\n",
       "      <td>00II</td>\n",
       "      <td>None</td>\n",
       "      <td>00II</td>\n",
       "      <td>-87.122802734375, 41.644500732421875</td>\n",
       "    </tr>\n",
       "    <tr>\n",
       "      <th>18</th>\n",
       "      <td>Hammer Airport</td>\n",
       "      <td>small_airport</td>\n",
       "      <td>840.0</td>\n",
       "      <td>US-IL</td>\n",
       "      <td>Polo</td>\n",
       "      <td>00IL</td>\n",
       "      <td>None</td>\n",
       "      <td>00IL</td>\n",
       "      <td>-89.5604019165039, 41.97840118408203</td>\n",
       "    </tr>\n",
       "    <tr>\n",
       "      <th>19</th>\n",
       "      <td>St Mary Medical Center Heliport</td>\n",
       "      <td>heliport</td>\n",
       "      <td>634.0</td>\n",
       "      <td>US-IN</td>\n",
       "      <td>Hobart</td>\n",
       "      <td>00IN</td>\n",
       "      <td>None</td>\n",
       "      <td>00IN</td>\n",
       "      <td>-87.2605972290039, 41.51139831542969</td>\n",
       "    </tr>\n",
       "    <tr>\n",
       "      <th>20</th>\n",
       "      <td>Hayenga's Cant Find Farms Airport</td>\n",
       "      <td>small_airport</td>\n",
       "      <td>820.0</td>\n",
       "      <td>US-IL</td>\n",
       "      <td>Kings</td>\n",
       "      <td>00IS</td>\n",
       "      <td>None</td>\n",
       "      <td>00IS</td>\n",
       "      <td>-89.1229019165039, 40.02560043334961</td>\n",
       "    </tr>\n",
       "    <tr>\n",
       "      <th>21</th>\n",
       "      <td>Hayden Farm Airport</td>\n",
       "      <td>small_airport</td>\n",
       "      <td>1100.0</td>\n",
       "      <td>US-KS</td>\n",
       "      <td>Gardner</td>\n",
       "      <td>00KS</td>\n",
       "      <td>None</td>\n",
       "      <td>00KS</td>\n",
       "      <td>-94.93049621582031, 38.72779846191406</td>\n",
       "    </tr>\n",
       "    <tr>\n",
       "      <th>22</th>\n",
       "      <td>Robbins Roost Airport</td>\n",
       "      <td>small_airport</td>\n",
       "      <td>1265.0</td>\n",
       "      <td>US-KY</td>\n",
       "      <td>Stanford</td>\n",
       "      <td>00KY</td>\n",
       "      <td>None</td>\n",
       "      <td>00KY</td>\n",
       "      <td>-84.61969757080078, 37.409400939941406</td>\n",
       "    </tr>\n",
       "    <tr>\n",
       "      <th>23</th>\n",
       "      <td>Shell Chemical East Site Heliport</td>\n",
       "      <td>heliport</td>\n",
       "      <td>15.0</td>\n",
       "      <td>US-LA</td>\n",
       "      <td>Gonzales</td>\n",
       "      <td>00LA</td>\n",
       "      <td>None</td>\n",
       "      <td>00LA</td>\n",
       "      <td>-90.980833, 30.191944</td>\n",
       "    </tr>\n",
       "    <tr>\n",
       "      <th>24</th>\n",
       "      <td>Ac &amp; R Components Heliport</td>\n",
       "      <td>heliport</td>\n",
       "      <td>600.0</td>\n",
       "      <td>US-IL</td>\n",
       "      <td>Chatham</td>\n",
       "      <td>00LL</td>\n",
       "      <td>None</td>\n",
       "      <td>00LL</td>\n",
       "      <td>-89.70559692382812, 39.66529846191406</td>\n",
       "    </tr>\n",
       "    <tr>\n",
       "      <th>25</th>\n",
       "      <td>Lejeune Airport</td>\n",
       "      <td>small_airport</td>\n",
       "      <td>12.0</td>\n",
       "      <td>US-LA</td>\n",
       "      <td>Esterwood</td>\n",
       "      <td>00LS</td>\n",
       "      <td>None</td>\n",
       "      <td>00LS</td>\n",
       "      <td>-92.42939758300781, 30.13629913330078</td>\n",
       "    </tr>\n",
       "    <tr>\n",
       "      <th>26</th>\n",
       "      <td>Slater Field</td>\n",
       "      <td>small_airport</td>\n",
       "      <td>45.0</td>\n",
       "      <td>US-MD</td>\n",
       "      <td>Federalsburg</td>\n",
       "      <td>00MD</td>\n",
       "      <td>None</td>\n",
       "      <td>00MD</td>\n",
       "      <td>-75.75379943847656, 38.75709915161133</td>\n",
       "    </tr>\n",
       "    <tr>\n",
       "      <th>27</th>\n",
       "      <td>Dow Chemical Heliport</td>\n",
       "      <td>heliport</td>\n",
       "      <td>588.0</td>\n",
       "      <td>US-MI</td>\n",
       "      <td>Ludington</td>\n",
       "      <td>00MI</td>\n",
       "      <td>None</td>\n",
       "      <td>00MI</td>\n",
       "      <td>-86.41670227050781, 43.94940185546875</td>\n",
       "    </tr>\n",
       "    <tr>\n",
       "      <th>28</th>\n",
       "      <td>Battle Lake Municipal Airport</td>\n",
       "      <td>small_airport</td>\n",
       "      <td>1365.0</td>\n",
       "      <td>US-MN</td>\n",
       "      <td>Battle Lake</td>\n",
       "      <td>00MN</td>\n",
       "      <td>None</td>\n",
       "      <td>00MN</td>\n",
       "      <td>-95.70030212402344, 46.29999923706055</td>\n",
       "    </tr>\n",
       "    <tr>\n",
       "      <th>29</th>\n",
       "      <td>Cooper Flying Service Airport</td>\n",
       "      <td>small_airport</td>\n",
       "      <td>970.0</td>\n",
       "      <td>US-MO</td>\n",
       "      <td>Alba</td>\n",
       "      <td>00MO</td>\n",
       "      <td>None</td>\n",
       "      <td>00MO</td>\n",
       "      <td>-94.412399291992, 37.202800750732</td>\n",
       "    </tr>\n",
       "    <tr>\n",
       "      <th>...</th>\n",
       "      <td>...</td>\n",
       "      <td>...</td>\n",
       "      <td>...</td>\n",
       "      <td>...</td>\n",
       "      <td>...</td>\n",
       "      <td>...</td>\n",
       "      <td>...</td>\n",
       "      <td>...</td>\n",
       "      <td>...</td>\n",
       "    </tr>\n",
       "    <tr>\n",
       "      <th>21206</th>\n",
       "      <td>Home Acres Sky Ranch Airport</td>\n",
       "      <td>small_airport</td>\n",
       "      <td>1247.0</td>\n",
       "      <td>US-MI</td>\n",
       "      <td>Lake City</td>\n",
       "      <td>Y91</td>\n",
       "      <td>None</td>\n",
       "      <td>Y91</td>\n",
       "      <td>-85.17120361328125, 44.3203010559082</td>\n",
       "    </tr>\n",
       "    <tr>\n",
       "      <th>21207</th>\n",
       "      <td>Leo E. Goetz County Airport</td>\n",
       "      <td>small_airport</td>\n",
       "      <td>830.0</td>\n",
       "      <td>US-MI</td>\n",
       "      <td>Onaway</td>\n",
       "      <td>Y96</td>\n",
       "      <td>None</td>\n",
       "      <td>Y96</td>\n",
       "      <td>-84.2249984741211, 45.37080001831055</td>\n",
       "    </tr>\n",
       "    <tr>\n",
       "      <th>21208</th>\n",
       "      <td>Grand Marais Airport</td>\n",
       "      <td>small_airport</td>\n",
       "      <td>838.0</td>\n",
       "      <td>US-MI</td>\n",
       "      <td>Grand Marais</td>\n",
       "      <td>Y98</td>\n",
       "      <td>None</td>\n",
       "      <td>Y98</td>\n",
       "      <td>-85.91680145263672, 46.62080001831055</td>\n",
       "    </tr>\n",
       "    <tr>\n",
       "      <th>21209</th>\n",
       "      <td>Trulson Field</td>\n",
       "      <td>small_airport</td>\n",
       "      <td>2105.0</td>\n",
       "      <td>US-ND</td>\n",
       "      <td>Plaza</td>\n",
       "      <td>Y99</td>\n",
       "      <td>None</td>\n",
       "      <td>Y99</td>\n",
       "      <td>-101.9530029296875, 48.030601501464844</td>\n",
       "    </tr>\n",
       "    <tr>\n",
       "      <th>21210</th>\n",
       "      <td>Akiachak Airport</td>\n",
       "      <td>small_airport</td>\n",
       "      <td>23.0</td>\n",
       "      <td>US-AK</td>\n",
       "      <td>Akiachak</td>\n",
       "      <td>Z13</td>\n",
       "      <td>KKI</td>\n",
       "      <td>Z13</td>\n",
       "      <td>-161.42199707031, 60.904800415039</td>\n",
       "    </tr>\n",
       "    <tr>\n",
       "      <th>21211</th>\n",
       "      <td>Tazlina Airport</td>\n",
       "      <td>small_airport</td>\n",
       "      <td>2450.0</td>\n",
       "      <td>US-AK</td>\n",
       "      <td>Tazlina</td>\n",
       "      <td>Z14</td>\n",
       "      <td>None</td>\n",
       "      <td>Z14</td>\n",
       "      <td>-146.46099853515625, 62.06480026245117</td>\n",
       "    </tr>\n",
       "    <tr>\n",
       "      <th>21212</th>\n",
       "      <td>Ophir Airport</td>\n",
       "      <td>small_airport</td>\n",
       "      <td>575.0</td>\n",
       "      <td>US-AK</td>\n",
       "      <td>Ophir</td>\n",
       "      <td>Z17</td>\n",
       "      <td>None</td>\n",
       "      <td>Z17</td>\n",
       "      <td>-156.52999877929688, 63.145999908447266</td>\n",
       "    </tr>\n",
       "    <tr>\n",
       "      <th>21213</th>\n",
       "      <td>Tuntutuliak Seaplane Base</td>\n",
       "      <td>seaplane_base</td>\n",
       "      <td>15.0</td>\n",
       "      <td>US-AK</td>\n",
       "      <td>Tuntutuliak</td>\n",
       "      <td>Z20</td>\n",
       "      <td>None</td>\n",
       "      <td>Z20</td>\n",
       "      <td>-162.666000366, 60.3414993286</td>\n",
       "    </tr>\n",
       "    <tr>\n",
       "      <th>21214</th>\n",
       "      <td>Tripod Airport</td>\n",
       "      <td>small_airport</td>\n",
       "      <td>225.0</td>\n",
       "      <td>US-AK</td>\n",
       "      <td>Aleknagik</td>\n",
       "      <td>Z25</td>\n",
       "      <td>None</td>\n",
       "      <td>Z25</td>\n",
       "      <td>-158.557755, 59.263146</td>\n",
       "    </tr>\n",
       "    <tr>\n",
       "      <th>21215</th>\n",
       "      <td>Aleknagik Seaplane Base</td>\n",
       "      <td>seaplane_base</td>\n",
       "      <td>7.0</td>\n",
       "      <td>US-AK</td>\n",
       "      <td>Aleknagik</td>\n",
       "      <td>Z33</td>\n",
       "      <td>None</td>\n",
       "      <td>Z33</td>\n",
       "      <td>-158.62399291992188, 59.27399826049805</td>\n",
       "    </tr>\n",
       "    <tr>\n",
       "      <th>21216</th>\n",
       "      <td>Goose Bay Airport</td>\n",
       "      <td>small_airport</td>\n",
       "      <td>78.0</td>\n",
       "      <td>US-AK</td>\n",
       "      <td>Goose Bay</td>\n",
       "      <td>Z40</td>\n",
       "      <td>None</td>\n",
       "      <td>Z40</td>\n",
       "      <td>-149.8459930419922, 61.394500732421875</td>\n",
       "    </tr>\n",
       "    <tr>\n",
       "      <th>21217</th>\n",
       "      <td>Lake Hood Strip</td>\n",
       "      <td>small_airport</td>\n",
       "      <td>73.0</td>\n",
       "      <td>US-AK</td>\n",
       "      <td>Anchorage</td>\n",
       "      <td>Z41</td>\n",
       "      <td>None</td>\n",
       "      <td>Z41</td>\n",
       "      <td>-149.96499633789062, 61.1869010925293</td>\n",
       "    </tr>\n",
       "    <tr>\n",
       "      <th>21218</th>\n",
       "      <td>Tamgas Harbor Seaplane Base</td>\n",
       "      <td>seaplane_base</td>\n",
       "      <td>NaN</td>\n",
       "      <td>US-AK</td>\n",
       "      <td>Annette</td>\n",
       "      <td>Z43</td>\n",
       "      <td>None</td>\n",
       "      <td>Z43</td>\n",
       "      <td>-131.5570068359375, 55.06800079345703</td>\n",
       "    </tr>\n",
       "    <tr>\n",
       "      <th>21219</th>\n",
       "      <td>Engstrom Field</td>\n",
       "      <td>small_airport</td>\n",
       "      <td>143.0</td>\n",
       "      <td>US-AK</td>\n",
       "      <td>Basin Creek</td>\n",
       "      <td>None</td>\n",
       "      <td>None</td>\n",
       "      <td>Z47</td>\n",
       "      <td>-165.299205, 64.67909</td>\n",
       "    </tr>\n",
       "    <tr>\n",
       "      <th>21220</th>\n",
       "      <td>Bear Creek 3 Airport</td>\n",
       "      <td>small_airport</td>\n",
       "      <td>740.0</td>\n",
       "      <td>US-AK</td>\n",
       "      <td>Bear Creek</td>\n",
       "      <td>Z48</td>\n",
       "      <td>BCC</td>\n",
       "      <td>Z48</td>\n",
       "      <td>-156.149454117, 63.5733160384</td>\n",
       "    </tr>\n",
       "    <tr>\n",
       "      <th>21221</th>\n",
       "      <td>Johnsons Landing Airport</td>\n",
       "      <td>small_airport</td>\n",
       "      <td>130.0</td>\n",
       "      <td>US-AK</td>\n",
       "      <td>Bear Lake</td>\n",
       "      <td>Z52</td>\n",
       "      <td>None</td>\n",
       "      <td>Z52</td>\n",
       "      <td>-160.26600646972656, 56.03670120239258</td>\n",
       "    </tr>\n",
       "    <tr>\n",
       "      <th>21222</th>\n",
       "      <td>Lake Louise Airport</td>\n",
       "      <td>small_airport</td>\n",
       "      <td>2450.0</td>\n",
       "      <td>US-AK</td>\n",
       "      <td>Lake Louise</td>\n",
       "      <td>Z55</td>\n",
       "      <td>None</td>\n",
       "      <td>Z55</td>\n",
       "      <td>-146.57899475097656, 62.293701171875</td>\n",
       "    </tr>\n",
       "    <tr>\n",
       "      <th>21223</th>\n",
       "      <td>Hangar Lake Seaplane Base</td>\n",
       "      <td>seaplane_base</td>\n",
       "      <td>17.0</td>\n",
       "      <td>US-AK</td>\n",
       "      <td>Bethel</td>\n",
       "      <td>None</td>\n",
       "      <td>None</td>\n",
       "      <td>Z58</td>\n",
       "      <td>-161.727024, 60.803324</td>\n",
       "    </tr>\n",
       "    <tr>\n",
       "      <th>21224</th>\n",
       "      <td>Bethel Seaplane Base</td>\n",
       "      <td>seaplane_base</td>\n",
       "      <td>15.0</td>\n",
       "      <td>US-AK</td>\n",
       "      <td>Bethel</td>\n",
       "      <td>Z59</td>\n",
       "      <td>JBT</td>\n",
       "      <td>Z59</td>\n",
       "      <td>-161.742996216, 60.782001495399996</td>\n",
       "    </tr>\n",
       "    <tr>\n",
       "      <th>21225</th>\n",
       "      <td>Cape Pole Seaplane Base</td>\n",
       "      <td>seaplane_base</td>\n",
       "      <td>0.0</td>\n",
       "      <td>US-AK</td>\n",
       "      <td>Cape Pole</td>\n",
       "      <td>Z71</td>\n",
       "      <td>CZP</td>\n",
       "      <td>Z71</td>\n",
       "      <td>-133.79699707, 55.9663009644</td>\n",
       "    </tr>\n",
       "    <tr>\n",
       "      <th>21226</th>\n",
       "      <td>Chignik Bay Seaplane Base</td>\n",
       "      <td>seaplane_base</td>\n",
       "      <td>NaN</td>\n",
       "      <td>US-AK</td>\n",
       "      <td>Chignik</td>\n",
       "      <td>Z78</td>\n",
       "      <td>KBW</td>\n",
       "      <td>Z78</td>\n",
       "      <td>-158.401000977, 56.295600891099994</td>\n",
       "    </tr>\n",
       "    <tr>\n",
       "      <th>21227</th>\n",
       "      <td>Salmon Lake Airport</td>\n",
       "      <td>small_airport</td>\n",
       "      <td>490.0</td>\n",
       "      <td>US-AK</td>\n",
       "      <td>Salmon Lake</td>\n",
       "      <td>Z81</td>\n",
       "      <td>None</td>\n",
       "      <td>Z81</td>\n",
       "      <td>-165.01300048828125, 64.9092025756836</td>\n",
       "    </tr>\n",
       "    <tr>\n",
       "      <th>21228</th>\n",
       "      <td>Clearwater Airport</td>\n",
       "      <td>small_airport</td>\n",
       "      <td>2900.0</td>\n",
       "      <td>US-AK</td>\n",
       "      <td>Clearwater</td>\n",
       "      <td>Z86</td>\n",
       "      <td>None</td>\n",
       "      <td>Z86</td>\n",
       "      <td>-147.1790008544922, 63.026798248291016</td>\n",
       "    </tr>\n",
       "    <tr>\n",
       "      <th>21229</th>\n",
       "      <td>Blinn Lake Seaplane Base</td>\n",
       "      <td>seaplane_base</td>\n",
       "      <td>50.0</td>\n",
       "      <td>US-AK</td>\n",
       "      <td>Cold Bay</td>\n",
       "      <td>Z87</td>\n",
       "      <td>None</td>\n",
       "      <td>Z87</td>\n",
       "      <td>-162.7530059814453, 55.2515983581543</td>\n",
       "    </tr>\n",
       "    <tr>\n",
       "      <th>21230</th>\n",
       "      <td>Stampede Airport</td>\n",
       "      <td>small_airport</td>\n",
       "      <td>1850.0</td>\n",
       "      <td>US-AK</td>\n",
       "      <td>Kantishna</td>\n",
       "      <td>Z90</td>\n",
       "      <td>None</td>\n",
       "      <td>Z90</td>\n",
       "      <td>-150.3300018310547, 63.74869918823242</td>\n",
       "    </tr>\n",
       "    <tr>\n",
       "      <th>21231</th>\n",
       "      <td>Birch Creek Airport</td>\n",
       "      <td>small_airport</td>\n",
       "      <td>450.0</td>\n",
       "      <td>US-AK</td>\n",
       "      <td>Birch Creek</td>\n",
       "      <td>Z91</td>\n",
       "      <td>KBC</td>\n",
       "      <td>Z91</td>\n",
       "      <td>-145.824005127, 66.2740020752</td>\n",
       "    </tr>\n",
       "    <tr>\n",
       "      <th>21232</th>\n",
       "      <td>Harsens Island Airport</td>\n",
       "      <td>small_airport</td>\n",
       "      <td>578.0</td>\n",
       "      <td>US-MI</td>\n",
       "      <td>Harsens Island</td>\n",
       "      <td>Z92</td>\n",
       "      <td>None</td>\n",
       "      <td>Z92</td>\n",
       "      <td>-82.57640075683594, 42.589698791503906</td>\n",
       "    </tr>\n",
       "    <tr>\n",
       "      <th>21233</th>\n",
       "      <td>Copper Center 2 Airport</td>\n",
       "      <td>small_airport</td>\n",
       "      <td>1150.0</td>\n",
       "      <td>US-AK</td>\n",
       "      <td>Copper Center</td>\n",
       "      <td>Z93</td>\n",
       "      <td>CZC</td>\n",
       "      <td>Z93</td>\n",
       "      <td>-145.294006348, 61.9412002563</td>\n",
       "    </tr>\n",
       "    <tr>\n",
       "      <th>21234</th>\n",
       "      <td>Cibecue Airport</td>\n",
       "      <td>small_airport</td>\n",
       "      <td>5037.0</td>\n",
       "      <td>US-AZ</td>\n",
       "      <td>Cibecue</td>\n",
       "      <td>Z95</td>\n",
       "      <td>None</td>\n",
       "      <td>Z95</td>\n",
       "      <td>-110.44400024414062, 34.003299713134766</td>\n",
       "    </tr>\n",
       "    <tr>\n",
       "      <th>21235</th>\n",
       "      <td>Nyac Airport</td>\n",
       "      <td>small_airport</td>\n",
       "      <td>460.0</td>\n",
       "      <td>US-AK</td>\n",
       "      <td>Nyac</td>\n",
       "      <td>ZNC</td>\n",
       "      <td>ZNC</td>\n",
       "      <td>ZNC</td>\n",
       "      <td>-159.994003296, 60.9807014465</td>\n",
       "    </tr>\n",
       "  </tbody>\n",
       "</table>\n",
       "<p>21236 rows × 9 columns</p>\n",
       "</div>"
      ],
      "text/plain": [
       "                                     name           type  elevation_ft  \\\n",
       "0                       Total Rf Heliport       heliport          11.0   \n",
       "1                    Aero B Ranch Airport  small_airport        3435.0   \n",
       "2                            Lowell Field  small_airport         450.0   \n",
       "3                            Epps Airpark  small_airport         820.0   \n",
       "4                          Fulton Airport  small_airport        1100.0   \n",
       "5                          Cordes Airport  small_airport        3810.0   \n",
       "6                 Goldstone /Gts/ Airport  small_airport        3038.0   \n",
       "7                     Williams Ag Airport  small_airport          87.0   \n",
       "8         Kitchen Creek Helibase Heliport       heliport        3350.0   \n",
       "9                     Grass Patch Airport  small_airport          53.0   \n",
       "10                     Ringhaver Heliport       heliport          25.0   \n",
       "11                      River Oak Airport  small_airport          35.0   \n",
       "12                       Lt World Airport  small_airport         700.0   \n",
       "13                       Caffrey Heliport       heliport         957.0   \n",
       "14                     Kaupulehu Heliport       heliport          43.0   \n",
       "15                   Delta Shores Airport  small_airport        2064.0   \n",
       "16                          Goltl Airport  small_airport        3359.0   \n",
       "17     Bailey Generation Station Heliport       heliport         600.0   \n",
       "18                         Hammer Airport  small_airport         840.0   \n",
       "19        St Mary Medical Center Heliport       heliport         634.0   \n",
       "20      Hayenga's Cant Find Farms Airport  small_airport         820.0   \n",
       "21                    Hayden Farm Airport  small_airport        1100.0   \n",
       "22                  Robbins Roost Airport  small_airport        1265.0   \n",
       "23      Shell Chemical East Site Heliport       heliport          15.0   \n",
       "24             Ac & R Components Heliport       heliport         600.0   \n",
       "25                        Lejeune Airport  small_airport          12.0   \n",
       "26                           Slater Field  small_airport          45.0   \n",
       "27                  Dow Chemical Heliport       heliport         588.0   \n",
       "28          Battle Lake Municipal Airport  small_airport        1365.0   \n",
       "29          Cooper Flying Service Airport  small_airport         970.0   \n",
       "...                                   ...            ...           ...   \n",
       "21206        Home Acres Sky Ranch Airport  small_airport        1247.0   \n",
       "21207         Leo E. Goetz County Airport  small_airport         830.0   \n",
       "21208                Grand Marais Airport  small_airport         838.0   \n",
       "21209                       Trulson Field  small_airport        2105.0   \n",
       "21210                    Akiachak Airport  small_airport          23.0   \n",
       "21211                     Tazlina Airport  small_airport        2450.0   \n",
       "21212                       Ophir Airport  small_airport         575.0   \n",
       "21213           Tuntutuliak Seaplane Base  seaplane_base          15.0   \n",
       "21214                      Tripod Airport  small_airport         225.0   \n",
       "21215             Aleknagik Seaplane Base  seaplane_base           7.0   \n",
       "21216                   Goose Bay Airport  small_airport          78.0   \n",
       "21217                     Lake Hood Strip  small_airport          73.0   \n",
       "21218         Tamgas Harbor Seaplane Base  seaplane_base           NaN   \n",
       "21219                      Engstrom Field  small_airport         143.0   \n",
       "21220                Bear Creek 3 Airport  small_airport         740.0   \n",
       "21221            Johnsons Landing Airport  small_airport         130.0   \n",
       "21222                 Lake Louise Airport  small_airport        2450.0   \n",
       "21223           Hangar Lake Seaplane Base  seaplane_base          17.0   \n",
       "21224                Bethel Seaplane Base  seaplane_base          15.0   \n",
       "21225             Cape Pole Seaplane Base  seaplane_base           0.0   \n",
       "21226           Chignik Bay Seaplane Base  seaplane_base           NaN   \n",
       "21227                 Salmon Lake Airport  small_airport         490.0   \n",
       "21228                  Clearwater Airport  small_airport        2900.0   \n",
       "21229            Blinn Lake Seaplane Base  seaplane_base          50.0   \n",
       "21230                    Stampede Airport  small_airport        1850.0   \n",
       "21231                 Birch Creek Airport  small_airport         450.0   \n",
       "21232              Harsens Island Airport  small_airport         578.0   \n",
       "21233             Copper Center 2 Airport  small_airport        1150.0   \n",
       "21234                     Cibecue Airport  small_airport        5037.0   \n",
       "21235                        Nyac Airport  small_airport         460.0   \n",
       "\n",
       "      iso_region    municipality gps_code iata_code local_code  \\\n",
       "0          US-PA        Bensalem      00A      None        00A   \n",
       "1          US-KS           Leoti     00AA      None       00AA   \n",
       "2          US-AK    Anchor Point     00AK      None       00AK   \n",
       "3          US-AL         Harvest     00AL      None       00AL   \n",
       "4          US-OK            Alex     00AS      None       00AS   \n",
       "5          US-AZ          Cordes     00AZ      None       00AZ   \n",
       "6          US-CA         Barstow     00CA      None       00CA   \n",
       "7          US-CA           Biggs     00CL      None       00CL   \n",
       "8          US-CA     Pine Valley     00CN      None       00CN   \n",
       "9          US-FL        Bushnell     00FA      None       00FA   \n",
       "10         US-FL       Riverview     00FD      None       00FD   \n",
       "11         US-FL      Okeechobee     00FL      None       00FL   \n",
       "12         US-GA        Lithonia     00GA      None       00GA   \n",
       "13         US-GA           Hiram     00GE      None       00GE   \n",
       "14         US-HI     Kailua/Kona     00HI      None       00HI   \n",
       "15         US-ID      Clark Fork     00ID      None       00ID   \n",
       "16         US-KS        McDonald     00IG      None       00IG   \n",
       "17         US-IN      Chesterton     00II      None       00II   \n",
       "18         US-IL            Polo     00IL      None       00IL   \n",
       "19         US-IN          Hobart     00IN      None       00IN   \n",
       "20         US-IL           Kings     00IS      None       00IS   \n",
       "21         US-KS         Gardner     00KS      None       00KS   \n",
       "22         US-KY        Stanford     00KY      None       00KY   \n",
       "23         US-LA        Gonzales     00LA      None       00LA   \n",
       "24         US-IL         Chatham     00LL      None       00LL   \n",
       "25         US-LA       Esterwood     00LS      None       00LS   \n",
       "26         US-MD    Federalsburg     00MD      None       00MD   \n",
       "27         US-MI       Ludington     00MI      None       00MI   \n",
       "28         US-MN     Battle Lake     00MN      None       00MN   \n",
       "29         US-MO            Alba     00MO      None       00MO   \n",
       "...          ...             ...      ...       ...        ...   \n",
       "21206      US-MI       Lake City      Y91      None        Y91   \n",
       "21207      US-MI          Onaway      Y96      None        Y96   \n",
       "21208      US-MI    Grand Marais      Y98      None        Y98   \n",
       "21209      US-ND           Plaza      Y99      None        Y99   \n",
       "21210      US-AK        Akiachak      Z13       KKI        Z13   \n",
       "21211      US-AK         Tazlina      Z14      None        Z14   \n",
       "21212      US-AK           Ophir      Z17      None        Z17   \n",
       "21213      US-AK     Tuntutuliak      Z20      None        Z20   \n",
       "21214      US-AK       Aleknagik      Z25      None        Z25   \n",
       "21215      US-AK       Aleknagik      Z33      None        Z33   \n",
       "21216      US-AK       Goose Bay      Z40      None        Z40   \n",
       "21217      US-AK       Anchorage      Z41      None        Z41   \n",
       "21218      US-AK         Annette      Z43      None        Z43   \n",
       "21219      US-AK     Basin Creek     None      None        Z47   \n",
       "21220      US-AK      Bear Creek      Z48       BCC        Z48   \n",
       "21221      US-AK       Bear Lake      Z52      None        Z52   \n",
       "21222      US-AK     Lake Louise      Z55      None        Z55   \n",
       "21223      US-AK          Bethel     None      None        Z58   \n",
       "21224      US-AK          Bethel      Z59       JBT        Z59   \n",
       "21225      US-AK       Cape Pole      Z71       CZP        Z71   \n",
       "21226      US-AK         Chignik      Z78       KBW        Z78   \n",
       "21227      US-AK     Salmon Lake      Z81      None        Z81   \n",
       "21228      US-AK      Clearwater      Z86      None        Z86   \n",
       "21229      US-AK        Cold Bay      Z87      None        Z87   \n",
       "21230      US-AK       Kantishna      Z90      None        Z90   \n",
       "21231      US-AK     Birch Creek      Z91       KBC        Z91   \n",
       "21232      US-MI  Harsens Island      Z92      None        Z92   \n",
       "21233      US-AK   Copper Center      Z93       CZC        Z93   \n",
       "21234      US-AZ         Cibecue      Z95      None        Z95   \n",
       "21235      US-AK            Nyac      ZNC       ZNC        ZNC   \n",
       "\n",
       "                                   coordinates  \n",
       "0           -74.93360137939453, 40.07080078125  \n",
       "1                       -101.473911, 38.704022  \n",
       "2                  -151.695999146, 59.94919968  \n",
       "3        -86.77030181884766, 34.86479949951172  \n",
       "4                      -97.8180194, 34.9428028  \n",
       "5      -112.16500091552734, 34.305599212646484  \n",
       "6           -116.888000488, 35.350498199499995  \n",
       "7                       -121.763427, 39.427188  \n",
       "8                     -116.4597417, 32.7273736  \n",
       "9        -82.21900177001953, 28.64550018310547  \n",
       "10      -82.34539794921875, 28.846599578857422  \n",
       "11      -80.96920013427734, 27.230899810791016  \n",
       "12       -84.06829833984375, 33.76750183105469  \n",
       "13       -84.73390197753906, 33.88420104980469  \n",
       "14                      -155.980233, 19.832715  \n",
       "15     -116.21399688720703, 48.145301818847656  \n",
       "16                      -101.395994, 39.724028  \n",
       "17        -87.122802734375, 41.644500732421875  \n",
       "18        -89.5604019165039, 41.97840118408203  \n",
       "19        -87.2605972290039, 41.51139831542969  \n",
       "20        -89.1229019165039, 40.02560043334961  \n",
       "21       -94.93049621582031, 38.72779846191406  \n",
       "22      -84.61969757080078, 37.409400939941406  \n",
       "23                       -90.980833, 30.191944  \n",
       "24       -89.70559692382812, 39.66529846191406  \n",
       "25       -92.42939758300781, 30.13629913330078  \n",
       "26       -75.75379943847656, 38.75709915161133  \n",
       "27       -86.41670227050781, 43.94940185546875  \n",
       "28       -95.70030212402344, 46.29999923706055  \n",
       "29           -94.412399291992, 37.202800750732  \n",
       "...                                        ...  \n",
       "21206     -85.17120361328125, 44.3203010559082  \n",
       "21207     -84.2249984741211, 45.37080001831055  \n",
       "21208    -85.91680145263672, 46.62080001831055  \n",
       "21209   -101.9530029296875, 48.030601501464844  \n",
       "21210        -161.42199707031, 60.904800415039  \n",
       "21211   -146.46099853515625, 62.06480026245117  \n",
       "21212  -156.52999877929688, 63.145999908447266  \n",
       "21213            -162.666000366, 60.3414993286  \n",
       "21214                   -158.557755, 59.263146  \n",
       "21215   -158.62399291992188, 59.27399826049805  \n",
       "21216   -149.8459930419922, 61.394500732421875  \n",
       "21217    -149.96499633789062, 61.1869010925293  \n",
       "21218    -131.5570068359375, 55.06800079345703  \n",
       "21219                    -165.299205, 64.67909  \n",
       "21220            -156.149454117, 63.5733160384  \n",
       "21221   -160.26600646972656, 56.03670120239258  \n",
       "21222     -146.57899475097656, 62.293701171875  \n",
       "21223                   -161.727024, 60.803324  \n",
       "21224       -161.742996216, 60.782001495399996  \n",
       "21225             -133.79699707, 55.9663009644  \n",
       "21226       -158.401000977, 56.295600891099994  \n",
       "21227    -165.01300048828125, 64.9092025756836  \n",
       "21228   -147.1790008544922, 63.026798248291016  \n",
       "21229     -162.7530059814453, 55.2515983581543  \n",
       "21230    -150.3300018310547, 63.74869918823242  \n",
       "21231            -145.824005127, 66.2740020752  \n",
       "21232   -82.57640075683594, 42.589698791503906  \n",
       "21233            -145.294006348, 61.9412002563  \n",
       "21234  -110.44400024414062, 34.003299713134766  \n",
       "21235            -159.994003296, 60.9807014465  \n",
       "\n",
       "[21236 rows x 9 columns]"
      ]
     },
     "execution_count": 49,
     "metadata": {},
     "output_type": "execute_result"
    }
   ],
   "source": [
    "spark.sql(' SELECT name,type,elevation_ft,iso_region,municipality,gps_code,iata_code,local_code,coordinates  \\\n",
    "          FROM stg_airport').toPandas()"
   ]
  },
  {
   "cell_type": "code",
   "execution_count": 50,
   "metadata": {
    "editable": true
   },
   "outputs": [
    {
     "data": {
      "text/html": [
       "<div>\n",
       "<style scoped>\n",
       "    .dataframe tbody tr th:only-of-type {\n",
       "        vertical-align: middle;\n",
       "    }\n",
       "\n",
       "    .dataframe tbody tr th {\n",
       "        vertical-align: top;\n",
       "    }\n",
       "\n",
       "    .dataframe thead th {\n",
       "        text-align: right;\n",
       "    }\n",
       "</style>\n",
       "<table border=\"1\" class=\"dataframe\">\n",
       "  <thead>\n",
       "    <tr style=\"text-align: right;\">\n",
       "      <th></th>\n",
       "      <th>count(1)</th>\n",
       "    </tr>\n",
       "  </thead>\n",
       "  <tbody>\n",
       "    <tr>\n",
       "      <th>0</th>\n",
       "      <td>21236</td>\n",
       "    </tr>\n",
       "  </tbody>\n",
       "</table>\n",
       "</div>"
      ],
      "text/plain": [
       "   count(1)\n",
       "0     21236"
      ]
     },
     "execution_count": 50,
     "metadata": {},
     "output_type": "execute_result"
    }
   ],
   "source": [
    "spark.sql(' SELECT count(*)  \\\n",
    "          FROM stg_airport').toPandas()"
   ]
  },
  {
   "cell_type": "markdown",
   "metadata": {
    "editable": true
   },
   "source": [
    "Read US City Data"
   ]
  },
  {
   "cell_type": "code",
   "execution_count": 51,
   "metadata": {
    "editable": true
   },
   "outputs": [],
   "source": [
    "stg_us_city_schema = StructType([\n",
    "        StructField('City', StringType()),\n",
    "        StructField('State', StringType()),\n",
    "        StructField('Median Age', DoubleType()),\n",
    "        StructField('Male Population', IntegerType()),\n",
    "        StructField('Female Population', IntegerType()),\n",
    "        StructField('Total Population', IntegerType()),\n",
    "        StructField('Number of Veterans', IntegerType()),\n",
    "        StructField('Foreign-born', IntegerType()),\n",
    "        StructField('Average Household Size', DoubleType()),\n",
    "        StructField('State Code', StringType()),\n",
    "        StructField('Race', StringType()),\n",
    "        StructField('Count', IntegerType())\n",
    "    ])"
   ]
  },
  {
   "cell_type": "code",
   "execution_count": 52,
   "metadata": {
    "editable": true
   },
   "outputs": [],
   "source": [
    "stg_us_city_df=spark.read.option(\"delimiter\", \";\").csv('{}/us-cities-demographics.csv'.format(landing_zone_path),header=True,schema=stg_us_city_schema)"
   ]
  },
  {
   "cell_type": "code",
   "execution_count": 53,
   "metadata": {
    "editable": true
   },
   "outputs": [
    {
     "data": {
      "text/html": [
       "<div>\n",
       "<style scoped>\n",
       "    .dataframe tbody tr th:only-of-type {\n",
       "        vertical-align: middle;\n",
       "    }\n",
       "\n",
       "    .dataframe tbody tr th {\n",
       "        vertical-align: top;\n",
       "    }\n",
       "\n",
       "    .dataframe thead th {\n",
       "        text-align: right;\n",
       "    }\n",
       "</style>\n",
       "<table border=\"1\" class=\"dataframe\">\n",
       "  <thead>\n",
       "    <tr style=\"text-align: right;\">\n",
       "      <th></th>\n",
       "      <th>City</th>\n",
       "      <th>State</th>\n",
       "      <th>Median Age</th>\n",
       "      <th>Male Population</th>\n",
       "      <th>Female Population</th>\n",
       "      <th>Total Population</th>\n",
       "      <th>Number of Veterans</th>\n",
       "      <th>Foreign-born</th>\n",
       "      <th>Average Household Size</th>\n",
       "      <th>State Code</th>\n",
       "      <th>Race</th>\n",
       "      <th>Count</th>\n",
       "    </tr>\n",
       "  </thead>\n",
       "  <tbody>\n",
       "    <tr>\n",
       "      <th>0</th>\n",
       "      <td>Silver Spring</td>\n",
       "      <td>Maryland</td>\n",
       "      <td>33.8</td>\n",
       "      <td>40601</td>\n",
       "      <td>41862</td>\n",
       "      <td>82463</td>\n",
       "      <td>1562</td>\n",
       "      <td>30908</td>\n",
       "      <td>2.60</td>\n",
       "      <td>MD</td>\n",
       "      <td>Hispanic or Latino</td>\n",
       "      <td>25924</td>\n",
       "    </tr>\n",
       "    <tr>\n",
       "      <th>1</th>\n",
       "      <td>Quincy</td>\n",
       "      <td>Massachusetts</td>\n",
       "      <td>41.0</td>\n",
       "      <td>44129</td>\n",
       "      <td>49500</td>\n",
       "      <td>93629</td>\n",
       "      <td>4147</td>\n",
       "      <td>32935</td>\n",
       "      <td>2.39</td>\n",
       "      <td>MA</td>\n",
       "      <td>White</td>\n",
       "      <td>58723</td>\n",
       "    </tr>\n",
       "    <tr>\n",
       "      <th>2</th>\n",
       "      <td>Hoover</td>\n",
       "      <td>Alabama</td>\n",
       "      <td>38.5</td>\n",
       "      <td>38040</td>\n",
       "      <td>46799</td>\n",
       "      <td>84839</td>\n",
       "      <td>4819</td>\n",
       "      <td>8229</td>\n",
       "      <td>2.58</td>\n",
       "      <td>AL</td>\n",
       "      <td>Asian</td>\n",
       "      <td>4759</td>\n",
       "    </tr>\n",
       "    <tr>\n",
       "      <th>3</th>\n",
       "      <td>Rancho Cucamonga</td>\n",
       "      <td>California</td>\n",
       "      <td>34.5</td>\n",
       "      <td>88127</td>\n",
       "      <td>87105</td>\n",
       "      <td>175232</td>\n",
       "      <td>5821</td>\n",
       "      <td>33878</td>\n",
       "      <td>3.18</td>\n",
       "      <td>CA</td>\n",
       "      <td>Black or African-American</td>\n",
       "      <td>24437</td>\n",
       "    </tr>\n",
       "    <tr>\n",
       "      <th>4</th>\n",
       "      <td>Newark</td>\n",
       "      <td>New Jersey</td>\n",
       "      <td>34.6</td>\n",
       "      <td>138040</td>\n",
       "      <td>143873</td>\n",
       "      <td>281913</td>\n",
       "      <td>5829</td>\n",
       "      <td>86253</td>\n",
       "      <td>2.73</td>\n",
       "      <td>NJ</td>\n",
       "      <td>White</td>\n",
       "      <td>76402</td>\n",
       "    </tr>\n",
       "    <tr>\n",
       "      <th>5</th>\n",
       "      <td>Peoria</td>\n",
       "      <td>Illinois</td>\n",
       "      <td>33.1</td>\n",
       "      <td>56229</td>\n",
       "      <td>62432</td>\n",
       "      <td>118661</td>\n",
       "      <td>6634</td>\n",
       "      <td>7517</td>\n",
       "      <td>2.40</td>\n",
       "      <td>IL</td>\n",
       "      <td>American Indian and Alaska Native</td>\n",
       "      <td>1343</td>\n",
       "    </tr>\n",
       "    <tr>\n",
       "      <th>6</th>\n",
       "      <td>Avondale</td>\n",
       "      <td>Arizona</td>\n",
       "      <td>29.1</td>\n",
       "      <td>38712</td>\n",
       "      <td>41971</td>\n",
       "      <td>80683</td>\n",
       "      <td>4815</td>\n",
       "      <td>8355</td>\n",
       "      <td>3.18</td>\n",
       "      <td>AZ</td>\n",
       "      <td>Black or African-American</td>\n",
       "      <td>11592</td>\n",
       "    </tr>\n",
       "    <tr>\n",
       "      <th>7</th>\n",
       "      <td>West Covina</td>\n",
       "      <td>California</td>\n",
       "      <td>39.8</td>\n",
       "      <td>51629</td>\n",
       "      <td>56860</td>\n",
       "      <td>108489</td>\n",
       "      <td>3800</td>\n",
       "      <td>37038</td>\n",
       "      <td>3.56</td>\n",
       "      <td>CA</td>\n",
       "      <td>Asian</td>\n",
       "      <td>32716</td>\n",
       "    </tr>\n",
       "    <tr>\n",
       "      <th>8</th>\n",
       "      <td>O'Fallon</td>\n",
       "      <td>Missouri</td>\n",
       "      <td>36.0</td>\n",
       "      <td>41762</td>\n",
       "      <td>43270</td>\n",
       "      <td>85032</td>\n",
       "      <td>5783</td>\n",
       "      <td>3269</td>\n",
       "      <td>2.77</td>\n",
       "      <td>MO</td>\n",
       "      <td>Hispanic or Latino</td>\n",
       "      <td>2583</td>\n",
       "    </tr>\n",
       "    <tr>\n",
       "      <th>9</th>\n",
       "      <td>High Point</td>\n",
       "      <td>North Carolina</td>\n",
       "      <td>35.5</td>\n",
       "      <td>51751</td>\n",
       "      <td>58077</td>\n",
       "      <td>109828</td>\n",
       "      <td>5204</td>\n",
       "      <td>16315</td>\n",
       "      <td>2.65</td>\n",
       "      <td>NC</td>\n",
       "      <td>Asian</td>\n",
       "      <td>11060</td>\n",
       "    </tr>\n",
       "  </tbody>\n",
       "</table>\n",
       "</div>"
      ],
      "text/plain": [
       "               City           State  Median Age  Male Population  \\\n",
       "0     Silver Spring        Maryland        33.8            40601   \n",
       "1            Quincy   Massachusetts        41.0            44129   \n",
       "2            Hoover         Alabama        38.5            38040   \n",
       "3  Rancho Cucamonga      California        34.5            88127   \n",
       "4            Newark      New Jersey        34.6           138040   \n",
       "5            Peoria        Illinois        33.1            56229   \n",
       "6          Avondale         Arizona        29.1            38712   \n",
       "7       West Covina      California        39.8            51629   \n",
       "8          O'Fallon        Missouri        36.0            41762   \n",
       "9        High Point  North Carolina        35.5            51751   \n",
       "\n",
       "   Female Population  Total Population  Number of Veterans  Foreign-born  \\\n",
       "0              41862             82463                1562         30908   \n",
       "1              49500             93629                4147         32935   \n",
       "2              46799             84839                4819          8229   \n",
       "3              87105            175232                5821         33878   \n",
       "4             143873            281913                5829         86253   \n",
       "5              62432            118661                6634          7517   \n",
       "6              41971             80683                4815          8355   \n",
       "7              56860            108489                3800         37038   \n",
       "8              43270             85032                5783          3269   \n",
       "9              58077            109828                5204         16315   \n",
       "\n",
       "   Average Household Size State Code                               Race  Count  \n",
       "0                    2.60         MD                 Hispanic or Latino  25924  \n",
       "1                    2.39         MA                              White  58723  \n",
       "2                    2.58         AL                              Asian   4759  \n",
       "3                    3.18         CA          Black or African-American  24437  \n",
       "4                    2.73         NJ                              White  76402  \n",
       "5                    2.40         IL  American Indian and Alaska Native   1343  \n",
       "6                    3.18         AZ          Black or African-American  11592  \n",
       "7                    3.56         CA                              Asian  32716  \n",
       "8                    2.77         MO                 Hispanic or Latino   2583  \n",
       "9                    2.65         NC                              Asian  11060  "
      ]
     },
     "execution_count": 53,
     "metadata": {},
     "output_type": "execute_result"
    }
   ],
   "source": [
    "stg_us_city_df.limit(10).toPandas()"
   ]
  },
  {
   "cell_type": "code",
   "execution_count": 54,
   "metadata": {
    "editable": true
   },
   "outputs": [
    {
     "name": "stdout",
     "output_type": "stream",
     "text": [
      "root\n",
      " |-- City: string (nullable = true)\n",
      " |-- State: string (nullable = true)\n",
      " |-- Median Age: double (nullable = true)\n",
      " |-- Male Population: integer (nullable = true)\n",
      " |-- Female Population: integer (nullable = true)\n",
      " |-- Total Population: integer (nullable = true)\n",
      " |-- Number of Veterans: integer (nullable = true)\n",
      " |-- Foreign-born: integer (nullable = true)\n",
      " |-- Average Household Size: double (nullable = true)\n",
      " |-- State Code: string (nullable = true)\n",
      " |-- Race: string (nullable = true)\n",
      " |-- Count: integer (nullable = true)\n",
      "\n"
     ]
    }
   ],
   "source": [
    "stg_us_city_df.printSchema()"
   ]
  },
  {
   "cell_type": "code",
   "execution_count": 55,
   "metadata": {
    "editable": true
   },
   "outputs": [],
   "source": [
    "stg_us_city_df.createOrReplaceTempView(\"stg_us_city_prep\")"
   ]
  },
  {
   "cell_type": "markdown",
   "metadata": {
    "editable": true
   },
   "source": [
    "Prepare and clense City Data to be a dimension on the state granularity"
   ]
  },
  {
   "cell_type": "code",
   "execution_count": 56,
   "metadata": {
    "editable": true
   },
   "outputs": [
    {
     "data": {
      "text/plain": [
       "DataFrame[]"
      ]
     },
     "execution_count": 56,
     "metadata": {},
     "output_type": "execute_result"
    }
   ],
   "source": [
    "spark.sql('drop table IF EXISTS stg_us_city')"
   ]
  },
  {
   "cell_type": "code",
   "execution_count": 57,
   "metadata": {
    "editable": true
   },
   "outputs": [
    {
     "data": {
      "text/html": [
       "<div>\n",
       "<style scoped>\n",
       "    .dataframe tbody tr th:only-of-type {\n",
       "        vertical-align: middle;\n",
       "    }\n",
       "\n",
       "    .dataframe tbody tr th {\n",
       "        vertical-align: top;\n",
       "    }\n",
       "\n",
       "    .dataframe thead th {\n",
       "        text-align: right;\n",
       "    }\n",
       "</style>\n",
       "<table border=\"1\" class=\"dataframe\">\n",
       "  <thead>\n",
       "    <tr style=\"text-align: right;\">\n",
       "      <th></th>\n",
       "    </tr>\n",
       "  </thead>\n",
       "  <tbody>\n",
       "  </tbody>\n",
       "</table>\n",
       "</div>"
      ],
      "text/plain": [
       "Empty DataFrame\n",
       "Columns: []\n",
       "Index: []"
      ]
     },
     "execution_count": 57,
     "metadata": {},
     "output_type": "execute_result"
    }
   ],
   "source": [
    "spark.sql('create table stg_us_city as SELECT state ,state_code , SUM(male_population) as male_population ,sum(female_population) as female_population,\\\n",
    "          sum(total_population) as total_population,sum(number_of_veterans) as number_of_veterans , \\\n",
    "         sum(foreign_born) as foreign_born, sum(Count)  as count from(\\\n",
    "          SELECT  state ,`State Code` as state_code  ,`Male Population` as male_population ,`Female Population` as female_population,\\\n",
    "          `Total Population` as total_population  ,`Number of Veterans` as number_of_veterans , \\\n",
    "         `Foreign-born` as foreign_born, `Average Household Size` as average_household_size, sum(Count)  as count\\\n",
    "           FROM stg_us_city_prep   group by \\\n",
    "           state ,`State Code`  ,`Median Age` ,`Male Population` ,`Female Population` , `Total Population`  ,`Number of Veterans` ,\\\n",
    "            `Foreign-born` , `Average Household Size`)A \\\n",
    "          group by state ,state_code').toPandas()"
   ]
  },
  {
   "cell_type": "code",
   "execution_count": 58,
   "metadata": {
    "editable": true
   },
   "outputs": [
    {
     "data": {
      "text/html": [
       "<div>\n",
       "<style scoped>\n",
       "    .dataframe tbody tr th:only-of-type {\n",
       "        vertical-align: middle;\n",
       "    }\n",
       "\n",
       "    .dataframe tbody tr th {\n",
       "        vertical-align: top;\n",
       "    }\n",
       "\n",
       "    .dataframe thead th {\n",
       "        text-align: right;\n",
       "    }\n",
       "</style>\n",
       "<table border=\"1\" class=\"dataframe\">\n",
       "  <thead>\n",
       "    <tr style=\"text-align: right;\">\n",
       "      <th></th>\n",
       "      <th>state</th>\n",
       "      <th>state_code</th>\n",
       "      <th>male_population</th>\n",
       "      <th>female_population</th>\n",
       "      <th>total_population</th>\n",
       "      <th>number_of_veterans</th>\n",
       "      <th>foreign_born</th>\n",
       "      <th>count</th>\n",
       "    </tr>\n",
       "  </thead>\n",
       "  <tbody>\n",
       "    <tr>\n",
       "      <th>0</th>\n",
       "      <td>Kentucky</td>\n",
       "      <td>KY</td>\n",
       "      <td>452483</td>\n",
       "      <td>477394</td>\n",
       "      <td>929877</td>\n",
       "      <td>56025.0</td>\n",
       "      <td>66488.0</td>\n",
       "      <td>999456</td>\n",
       "    </tr>\n",
       "    <tr>\n",
       "      <th>1</th>\n",
       "      <td>Virginia</td>\n",
       "      <td>VA</td>\n",
       "      <td>1160474</td>\n",
       "      <td>1203148</td>\n",
       "      <td>2363622</td>\n",
       "      <td>229766.0</td>\n",
       "      <td>269254.0</td>\n",
       "      <td>2610431</td>\n",
       "    </tr>\n",
       "    <tr>\n",
       "      <th>2</th>\n",
       "      <td>Massachusetts</td>\n",
       "      <td>MA</td>\n",
       "      <td>975713</td>\n",
       "      <td>1039744</td>\n",
       "      <td>2015457</td>\n",
       "      <td>66076.0</td>\n",
       "      <td>520597.0</td>\n",
       "      <td>2321003</td>\n",
       "    </tr>\n",
       "    <tr>\n",
       "      <th>3</th>\n",
       "      <td>Oklahoma</td>\n",
       "      <td>OK</td>\n",
       "      <td>714573</td>\n",
       "      <td>734422</td>\n",
       "      <td>1448995</td>\n",
       "      <td>95468.0</td>\n",
       "      <td>151174.0</td>\n",
       "      <td>1729503</td>\n",
       "    </tr>\n",
       "    <tr>\n",
       "      <th>4</th>\n",
       "      <td>Arkansas</td>\n",
       "      <td>AR</td>\n",
       "      <td>286479</td>\n",
       "      <td>303400</td>\n",
       "      <td>589879</td>\n",
       "      <td>31704.0</td>\n",
       "      <td>62108.0</td>\n",
       "      <td>643597</td>\n",
       "    </tr>\n",
       "    <tr>\n",
       "      <th>5</th>\n",
       "      <td>North Dakota</td>\n",
       "      <td>ND</td>\n",
       "      <td>95235</td>\n",
       "      <td>94255</td>\n",
       "      <td>189490</td>\n",
       "      <td>10299.0</td>\n",
       "      <td>11492.0</td>\n",
       "      <td>198197</td>\n",
       "    </tr>\n",
       "    <tr>\n",
       "      <th>6</th>\n",
       "      <td>Mississippi</td>\n",
       "      <td>MS</td>\n",
       "      <td>112147</td>\n",
       "      <td>130536</td>\n",
       "      <td>242683</td>\n",
       "      <td>14792.0</td>\n",
       "      <td>4861.0</td>\n",
       "      <td>249185</td>\n",
       "    </tr>\n",
       "    <tr>\n",
       "      <th>7</th>\n",
       "      <td>New Jersey</td>\n",
       "      <td>NJ</td>\n",
       "      <td>705736</td>\n",
       "      <td>723172</td>\n",
       "      <td>1428908</td>\n",
       "      <td>30195.0</td>\n",
       "      <td>477028.0</td>\n",
       "      <td>1795916</td>\n",
       "    </tr>\n",
       "    <tr>\n",
       "      <th>8</th>\n",
       "      <td>Montana</td>\n",
       "      <td>MT</td>\n",
       "      <td>87707</td>\n",
       "      <td>93587</td>\n",
       "      <td>181294</td>\n",
       "      <td>13854.0</td>\n",
       "      <td>5977.0</td>\n",
       "      <td>196224</td>\n",
       "    </tr>\n",
       "    <tr>\n",
       "      <th>9</th>\n",
       "      <td>Oregon</td>\n",
       "      <td>OR</td>\n",
       "      <td>707443</td>\n",
       "      <td>729066</td>\n",
       "      <td>1436509</td>\n",
       "      <td>78948.0</td>\n",
       "      <td>185753.0</td>\n",
       "      <td>1665343</td>\n",
       "    </tr>\n",
       "    <tr>\n",
       "      <th>10</th>\n",
       "      <td>Alabama</td>\n",
       "      <td>AL</td>\n",
       "      <td>497248</td>\n",
       "      <td>552381</td>\n",
       "      <td>1049629</td>\n",
       "      <td>71543.0</td>\n",
       "      <td>52154.0</td>\n",
       "      <td>1096154</td>\n",
       "    </tr>\n",
       "    <tr>\n",
       "      <th>11</th>\n",
       "      <td>Kansas</td>\n",
       "      <td>KS</td>\n",
       "      <td>564145</td>\n",
       "      <td>584129</td>\n",
       "      <td>1148274</td>\n",
       "      <td>64789.0</td>\n",
       "      <td>118645.0</td>\n",
       "      <td>1326815</td>\n",
       "    </tr>\n",
       "    <tr>\n",
       "      <th>12</th>\n",
       "      <td>Colorado</td>\n",
       "      <td>CO</td>\n",
       "      <td>1454619</td>\n",
       "      <td>1481050</td>\n",
       "      <td>2935669</td>\n",
       "      <td>187896.0</td>\n",
       "      <td>337631.0</td>\n",
       "      <td>3587084</td>\n",
       "    </tr>\n",
       "    <tr>\n",
       "      <th>13</th>\n",
       "      <td>Pennsylvania</td>\n",
       "      <td>PA</td>\n",
       "      <td>1117708</td>\n",
       "      <td>1213148</td>\n",
       "      <td>2330856</td>\n",
       "      <td>104850.0</td>\n",
       "      <td>290860.0</td>\n",
       "      <td>2675056</td>\n",
       "    </tr>\n",
       "    <tr>\n",
       "      <th>14</th>\n",
       "      <td>Wisconsin</td>\n",
       "      <td>WI</td>\n",
       "      <td>688803</td>\n",
       "      <td>724342</td>\n",
       "      <td>1413145</td>\n",
       "      <td>61134.0</td>\n",
       "      <td>124687.0</td>\n",
       "      <td>1592148</td>\n",
       "    </tr>\n",
       "    <tr>\n",
       "      <th>15</th>\n",
       "      <td>Connecticut</td>\n",
       "      <td>CT</td>\n",
       "      <td>432157</td>\n",
       "      <td>453424</td>\n",
       "      <td>885581</td>\n",
       "      <td>24953.0</td>\n",
       "      <td>225866.0</td>\n",
       "      <td>1106528</td>\n",
       "    </tr>\n",
       "    <tr>\n",
       "      <th>16</th>\n",
       "      <td>Alaska</td>\n",
       "      <td>AK</td>\n",
       "      <td>152945</td>\n",
       "      <td>145750</td>\n",
       "      <td>298695</td>\n",
       "      <td>27492.0</td>\n",
       "      <td>33258.0</td>\n",
       "      <td>336228</td>\n",
       "    </tr>\n",
       "    <tr>\n",
       "      <th>17</th>\n",
       "      <td>Indiana</td>\n",
       "      <td>IN</td>\n",
       "      <td>910346</td>\n",
       "      <td>972407</td>\n",
       "      <td>1882753</td>\n",
       "      <td>92165.0</td>\n",
       "      <td>147233.0</td>\n",
       "      <td>2062597</td>\n",
       "    </tr>\n",
       "    <tr>\n",
       "      <th>18</th>\n",
       "      <td>Rhode Island</td>\n",
       "      <td>RI</td>\n",
       "      <td>202816</td>\n",
       "      <td>210746</td>\n",
       "      <td>413562</td>\n",
       "      <td>18607.0</td>\n",
       "      <td>87365.0</td>\n",
       "      <td>482700</td>\n",
       "    </tr>\n",
       "    <tr>\n",
       "      <th>19</th>\n",
       "      <td>Delaware</td>\n",
       "      <td>DE</td>\n",
       "      <td>32680</td>\n",
       "      <td>39277</td>\n",
       "      <td>71957</td>\n",
       "      <td>3063.0</td>\n",
       "      <td>3336.0</td>\n",
       "      <td>75048</td>\n",
       "    </tr>\n",
       "    <tr>\n",
       "      <th>20</th>\n",
       "      <td>Utah</td>\n",
       "      <td>UT</td>\n",
       "      <td>530818</td>\n",
       "      <td>519773</td>\n",
       "      <td>1050591</td>\n",
       "      <td>39671.0</td>\n",
       "      <td>132819.0</td>\n",
       "      <td>1180933</td>\n",
       "    </tr>\n",
       "    <tr>\n",
       "      <th>21</th>\n",
       "      <td>South Dakota</td>\n",
       "      <td>SD</td>\n",
       "      <td>122718</td>\n",
       "      <td>122380</td>\n",
       "      <td>245098</td>\n",
       "      <td>16087.0</td>\n",
       "      <td>15309.0</td>\n",
       "      <td>259402</td>\n",
       "    </tr>\n",
       "    <tr>\n",
       "      <th>22</th>\n",
       "      <td>Georgia</td>\n",
       "      <td>GA</td>\n",
       "      <td>820321</td>\n",
       "      <td>890711</td>\n",
       "      <td>1711032</td>\n",
       "      <td>104515.0</td>\n",
       "      <td>147785.0</td>\n",
       "      <td>1833611</td>\n",
       "    </tr>\n",
       "    <tr>\n",
       "      <th>23</th>\n",
       "      <td>Michigan</td>\n",
       "      <td>MI</td>\n",
       "      <td>1056446</td>\n",
       "      <td>1147014</td>\n",
       "      <td>2203460</td>\n",
       "      <td>99481.0</td>\n",
       "      <td>249772.0</td>\n",
       "      <td>2371664</td>\n",
       "    </tr>\n",
       "    <tr>\n",
       "      <th>24</th>\n",
       "      <td>Maine</td>\n",
       "      <td>ME</td>\n",
       "      <td>31480</td>\n",
       "      <td>35392</td>\n",
       "      <td>66872</td>\n",
       "      <td>3666.0</td>\n",
       "      <td>9229.0</td>\n",
       "      <td>71861</td>\n",
       "    </tr>\n",
       "    <tr>\n",
       "      <th>25</th>\n",
       "      <td>Maryland</td>\n",
       "      <td>MD</td>\n",
       "      <td>627951</td>\n",
       "      <td>684178</td>\n",
       "      <td>1312129</td>\n",
       "      <td>64143.0</td>\n",
       "      <td>229794.0</td>\n",
       "      <td>1451928</td>\n",
       "    </tr>\n",
       "    <tr>\n",
       "      <th>26</th>\n",
       "      <td>Arizona</td>\n",
       "      <td>AZ</td>\n",
       "      <td>2227455</td>\n",
       "      <td>2272087</td>\n",
       "      <td>4499542</td>\n",
       "      <td>264505.0</td>\n",
       "      <td>682313.0</td>\n",
       "      <td>5754881</td>\n",
       "    </tr>\n",
       "    <tr>\n",
       "      <th>27</th>\n",
       "      <td>Puerto Rico</td>\n",
       "      <td>PR</td>\n",
       "      <td>455870</td>\n",
       "      <td>534356</td>\n",
       "      <td>990226</td>\n",
       "      <td>NaN</td>\n",
       "      <td>NaN</td>\n",
       "      <td>997266</td>\n",
       "    </tr>\n",
       "    <tr>\n",
       "      <th>28</th>\n",
       "      <td>Washington</td>\n",
       "      <td>WA</td>\n",
       "      <td>1245605</td>\n",
       "      <td>1254502</td>\n",
       "      <td>2500107</td>\n",
       "      <td>153126.0</td>\n",
       "      <td>440962.0</td>\n",
       "      <td>2832381</td>\n",
       "    </tr>\n",
       "    <tr>\n",
       "      <th>29</th>\n",
       "      <td>Louisiana</td>\n",
       "      <td>LA</td>\n",
       "      <td>626998</td>\n",
       "      <td>673597</td>\n",
       "      <td>1300595</td>\n",
       "      <td>69771.0</td>\n",
       "      <td>83419.0</td>\n",
       "      <td>1391090</td>\n",
       "    </tr>\n",
       "    <tr>\n",
       "      <th>30</th>\n",
       "      <td>California</td>\n",
       "      <td>CA</td>\n",
       "      <td>12278281</td>\n",
       "      <td>12544179</td>\n",
       "      <td>24822460</td>\n",
       "      <td>928270.0</td>\n",
       "      <td>7448257.0</td>\n",
       "      <td>31753718</td>\n",
       "    </tr>\n",
       "    <tr>\n",
       "      <th>31</th>\n",
       "      <td>Nebraska</td>\n",
       "      <td>NE</td>\n",
       "      <td>357333</td>\n",
       "      <td>363900</td>\n",
       "      <td>721233</td>\n",
       "      <td>39197.0</td>\n",
       "      <td>71221.0</td>\n",
       "      <td>809416</td>\n",
       "    </tr>\n",
       "    <tr>\n",
       "      <th>32</th>\n",
       "      <td>Tennessee</td>\n",
       "      <td>TN</td>\n",
       "      <td>1031836</td>\n",
       "      <td>1120724</td>\n",
       "      <td>2152560</td>\n",
       "      <td>117901.0</td>\n",
       "      <td>181405.0</td>\n",
       "      <td>2322524</td>\n",
       "    </tr>\n",
       "    <tr>\n",
       "      <th>33</th>\n",
       "      <td>Minnesota</td>\n",
       "      <td>MN</td>\n",
       "      <td>702157</td>\n",
       "      <td>720246</td>\n",
       "      <td>1422403</td>\n",
       "      <td>64894.0</td>\n",
       "      <td>215873.0</td>\n",
       "      <td>1546985</td>\n",
       "    </tr>\n",
       "    <tr>\n",
       "      <th>34</th>\n",
       "      <td>Texas</td>\n",
       "      <td>TX</td>\n",
       "      <td>7063571</td>\n",
       "      <td>7236412</td>\n",
       "      <td>14299983</td>\n",
       "      <td>693501.0</td>\n",
       "      <td>2942164.0</td>\n",
       "      <td>20029645</td>\n",
       "    </tr>\n",
       "    <tr>\n",
       "      <th>35</th>\n",
       "      <td>Nevada</td>\n",
       "      <td>NV</td>\n",
       "      <td>1118645</td>\n",
       "      <td>1122099</td>\n",
       "      <td>2240744</td>\n",
       "      <td>152047.0</td>\n",
       "      <td>481337.0</td>\n",
       "      <td>2781296</td>\n",
       "    </tr>\n",
       "    <tr>\n",
       "      <th>36</th>\n",
       "      <td>North Carolina</td>\n",
       "      <td>NC</td>\n",
       "      <td>1466105</td>\n",
       "      <td>1594094</td>\n",
       "      <td>3060199</td>\n",
       "      <td>166146.0</td>\n",
       "      <td>379327.0</td>\n",
       "      <td>3387940</td>\n",
       "    </tr>\n",
       "    <tr>\n",
       "      <th>37</th>\n",
       "      <td>Ohio</td>\n",
       "      <td>OH</td>\n",
       "      <td>1177546</td>\n",
       "      <td>1256143</td>\n",
       "      <td>2433689</td>\n",
       "      <td>127372.0</td>\n",
       "      <td>175219.0</td>\n",
       "      <td>2651621</td>\n",
       "    </tr>\n",
       "    <tr>\n",
       "      <th>38</th>\n",
       "      <td>Iowa</td>\n",
       "      <td>IA</td>\n",
       "      <td>361176</td>\n",
       "      <td>372635</td>\n",
       "      <td>733811</td>\n",
       "      <td>39898.0</td>\n",
       "      <td>63687.0</td>\n",
       "      <td>804775</td>\n",
       "    </tr>\n",
       "    <tr>\n",
       "      <th>39</th>\n",
       "      <td>New Hampshire</td>\n",
       "      <td>NH</td>\n",
       "      <td>97771</td>\n",
       "      <td>100427</td>\n",
       "      <td>198198</td>\n",
       "      <td>11005.0</td>\n",
       "      <td>27199.0</td>\n",
       "      <td>222803</td>\n",
       "    </tr>\n",
       "    <tr>\n",
       "      <th>40</th>\n",
       "      <td>Idaho</td>\n",
       "      <td>ID</td>\n",
       "      <td>199103</td>\n",
       "      <td>199780</td>\n",
       "      <td>398883</td>\n",
       "      <td>26380.0</td>\n",
       "      <td>28126.0</td>\n",
       "      <td>446968</td>\n",
       "    </tr>\n",
       "    <tr>\n",
       "      <th>41</th>\n",
       "      <td>Hawaii</td>\n",
       "      <td>HI</td>\n",
       "      <td>176807</td>\n",
       "      <td>175959</td>\n",
       "      <td>352766</td>\n",
       "      <td>23213.0</td>\n",
       "      <td>101312.0</td>\n",
       "      <td>393445</td>\n",
       "    </tr>\n",
       "    <tr>\n",
       "      <th>42</th>\n",
       "      <td>District of Columbia</td>\n",
       "      <td>DC</td>\n",
       "      <td>319705</td>\n",
       "      <td>352523</td>\n",
       "      <td>672228</td>\n",
       "      <td>25963.0</td>\n",
       "      <td>95117.0</td>\n",
       "      <td>726519</td>\n",
       "    </tr>\n",
       "    <tr>\n",
       "      <th>43</th>\n",
       "      <td>New York</td>\n",
       "      <td>NY</td>\n",
       "      <td>4692055</td>\n",
       "      <td>5123571</td>\n",
       "      <td>9815626</td>\n",
       "      <td>204901.0</td>\n",
       "      <td>3438081.0</td>\n",
       "      <td>11377068</td>\n",
       "    </tr>\n",
       "    <tr>\n",
       "      <th>44</th>\n",
       "      <td>Florida</td>\n",
       "      <td>FL</td>\n",
       "      <td>3236773</td>\n",
       "      <td>3487375</td>\n",
       "      <td>6796738</td>\n",
       "      <td>388228.0</td>\n",
       "      <td>1688931.0</td>\n",
       "      <td>8664477</td>\n",
       "    </tr>\n",
       "    <tr>\n",
       "      <th>45</th>\n",
       "      <td>New Mexico</td>\n",
       "      <td>NM</td>\n",
       "      <td>409010</td>\n",
       "      <td>430032</td>\n",
       "      <td>839042</td>\n",
       "      <td>60474.0</td>\n",
       "      <td>89112.0</td>\n",
       "      <td>1179529</td>\n",
       "    </tr>\n",
       "    <tr>\n",
       "      <th>46</th>\n",
       "      <td>Illinois</td>\n",
       "      <td>IL</td>\n",
       "      <td>2218541</td>\n",
       "      <td>2343771</td>\n",
       "      <td>4562312</td>\n",
       "      <td>146701.0</td>\n",
       "      <td>941735.0</td>\n",
       "      <td>5375987</td>\n",
       "    </tr>\n",
       "    <tr>\n",
       "      <th>47</th>\n",
       "      <td>South Carolina</td>\n",
       "      <td>SC</td>\n",
       "      <td>260944</td>\n",
       "      <td>272713</td>\n",
       "      <td>533657</td>\n",
       "      <td>33463.0</td>\n",
       "      <td>27744.0</td>\n",
       "      <td>565751</td>\n",
       "    </tr>\n",
       "    <tr>\n",
       "      <th>48</th>\n",
       "      <td>Missouri</td>\n",
       "      <td>MO</td>\n",
       "      <td>733262</td>\n",
       "      <td>785932</td>\n",
       "      <td>1519194</td>\n",
       "      <td>91453.0</td>\n",
       "      <td>99095.0</td>\n",
       "      <td>1619575</td>\n",
       "    </tr>\n",
       "  </tbody>\n",
       "</table>\n",
       "</div>"
      ],
      "text/plain": [
       "                   state state_code  male_population  female_population  \\\n",
       "0               Kentucky         KY           452483             477394   \n",
       "1               Virginia         VA          1160474            1203148   \n",
       "2          Massachusetts         MA           975713            1039744   \n",
       "3               Oklahoma         OK           714573             734422   \n",
       "4               Arkansas         AR           286479             303400   \n",
       "5           North Dakota         ND            95235              94255   \n",
       "6            Mississippi         MS           112147             130536   \n",
       "7             New Jersey         NJ           705736             723172   \n",
       "8                Montana         MT            87707              93587   \n",
       "9                 Oregon         OR           707443             729066   \n",
       "10               Alabama         AL           497248             552381   \n",
       "11                Kansas         KS           564145             584129   \n",
       "12              Colorado         CO          1454619            1481050   \n",
       "13          Pennsylvania         PA          1117708            1213148   \n",
       "14             Wisconsin         WI           688803             724342   \n",
       "15           Connecticut         CT           432157             453424   \n",
       "16                Alaska         AK           152945             145750   \n",
       "17               Indiana         IN           910346             972407   \n",
       "18          Rhode Island         RI           202816             210746   \n",
       "19              Delaware         DE            32680              39277   \n",
       "20                  Utah         UT           530818             519773   \n",
       "21          South Dakota         SD           122718             122380   \n",
       "22               Georgia         GA           820321             890711   \n",
       "23              Michigan         MI          1056446            1147014   \n",
       "24                 Maine         ME            31480              35392   \n",
       "25              Maryland         MD           627951             684178   \n",
       "26               Arizona         AZ          2227455            2272087   \n",
       "27           Puerto Rico         PR           455870             534356   \n",
       "28            Washington         WA          1245605            1254502   \n",
       "29             Louisiana         LA           626998             673597   \n",
       "30            California         CA         12278281           12544179   \n",
       "31              Nebraska         NE           357333             363900   \n",
       "32             Tennessee         TN          1031836            1120724   \n",
       "33             Minnesota         MN           702157             720246   \n",
       "34                 Texas         TX          7063571            7236412   \n",
       "35                Nevada         NV          1118645            1122099   \n",
       "36        North Carolina         NC          1466105            1594094   \n",
       "37                  Ohio         OH          1177546            1256143   \n",
       "38                  Iowa         IA           361176             372635   \n",
       "39         New Hampshire         NH            97771             100427   \n",
       "40                 Idaho         ID           199103             199780   \n",
       "41                Hawaii         HI           176807             175959   \n",
       "42  District of Columbia         DC           319705             352523   \n",
       "43              New York         NY          4692055            5123571   \n",
       "44               Florida         FL          3236773            3487375   \n",
       "45            New Mexico         NM           409010             430032   \n",
       "46              Illinois         IL          2218541            2343771   \n",
       "47        South Carolina         SC           260944             272713   \n",
       "48              Missouri         MO           733262             785932   \n",
       "\n",
       "    total_population  number_of_veterans  foreign_born     count  \n",
       "0             929877             56025.0       66488.0    999456  \n",
       "1            2363622            229766.0      269254.0   2610431  \n",
       "2            2015457             66076.0      520597.0   2321003  \n",
       "3            1448995             95468.0      151174.0   1729503  \n",
       "4             589879             31704.0       62108.0    643597  \n",
       "5             189490             10299.0       11492.0    198197  \n",
       "6             242683             14792.0        4861.0    249185  \n",
       "7            1428908             30195.0      477028.0   1795916  \n",
       "8             181294             13854.0        5977.0    196224  \n",
       "9            1436509             78948.0      185753.0   1665343  \n",
       "10           1049629             71543.0       52154.0   1096154  \n",
       "11           1148274             64789.0      118645.0   1326815  \n",
       "12           2935669            187896.0      337631.0   3587084  \n",
       "13           2330856            104850.0      290860.0   2675056  \n",
       "14           1413145             61134.0      124687.0   1592148  \n",
       "15            885581             24953.0      225866.0   1106528  \n",
       "16            298695             27492.0       33258.0    336228  \n",
       "17           1882753             92165.0      147233.0   2062597  \n",
       "18            413562             18607.0       87365.0    482700  \n",
       "19             71957              3063.0        3336.0     75048  \n",
       "20           1050591             39671.0      132819.0   1180933  \n",
       "21            245098             16087.0       15309.0    259402  \n",
       "22           1711032            104515.0      147785.0   1833611  \n",
       "23           2203460             99481.0      249772.0   2371664  \n",
       "24             66872              3666.0        9229.0     71861  \n",
       "25           1312129             64143.0      229794.0   1451928  \n",
       "26           4499542            264505.0      682313.0   5754881  \n",
       "27            990226                 NaN           NaN    997266  \n",
       "28           2500107            153126.0      440962.0   2832381  \n",
       "29           1300595             69771.0       83419.0   1391090  \n",
       "30          24822460            928270.0     7448257.0  31753718  \n",
       "31            721233             39197.0       71221.0    809416  \n",
       "32           2152560            117901.0      181405.0   2322524  \n",
       "33           1422403             64894.0      215873.0   1546985  \n",
       "34          14299983            693501.0     2942164.0  20029645  \n",
       "35           2240744            152047.0      481337.0   2781296  \n",
       "36           3060199            166146.0      379327.0   3387940  \n",
       "37           2433689            127372.0      175219.0   2651621  \n",
       "38            733811             39898.0       63687.0    804775  \n",
       "39            198198             11005.0       27199.0    222803  \n",
       "40            398883             26380.0       28126.0    446968  \n",
       "41            352766             23213.0      101312.0    393445  \n",
       "42            672228             25963.0       95117.0    726519  \n",
       "43           9815626            204901.0     3438081.0  11377068  \n",
       "44           6796738            388228.0     1688931.0   8664477  \n",
       "45            839042             60474.0       89112.0   1179529  \n",
       "46           4562312            146701.0      941735.0   5375987  \n",
       "47            533657             33463.0       27744.0    565751  \n",
       "48           1519194             91453.0       99095.0   1619575  "
      ]
     },
     "execution_count": 58,
     "metadata": {},
     "output_type": "execute_result"
    }
   ],
   "source": [
    "spark.sql('SELECT  state,state_code,male_population,female_population,total_population,number_of_veterans,foreign_born,count from stg_us_city').toPandas()"
   ]
  },
  {
   "cell_type": "code",
   "execution_count": 59,
   "metadata": {
    "editable": true
   },
   "outputs": [
    {
     "data": {
      "text/html": [
       "<div>\n",
       "<style scoped>\n",
       "    .dataframe tbody tr th:only-of-type {\n",
       "        vertical-align: middle;\n",
       "    }\n",
       "\n",
       "    .dataframe tbody tr th {\n",
       "        vertical-align: top;\n",
       "    }\n",
       "\n",
       "    .dataframe thead th {\n",
       "        text-align: right;\n",
       "    }\n",
       "</style>\n",
       "<table border=\"1\" class=\"dataframe\">\n",
       "  <thead>\n",
       "    <tr style=\"text-align: right;\">\n",
       "      <th></th>\n",
       "      <th>count(1)</th>\n",
       "    </tr>\n",
       "  </thead>\n",
       "  <tbody>\n",
       "    <tr>\n",
       "      <th>0</th>\n",
       "      <td>49</td>\n",
       "    </tr>\n",
       "  </tbody>\n",
       "</table>\n",
       "</div>"
      ],
      "text/plain": [
       "   count(1)\n",
       "0        49"
      ]
     },
     "execution_count": 59,
     "metadata": {},
     "output_type": "execute_result"
    }
   ],
   "source": [
    "spark.sql('SELECT count(*) from stg_us_city').toPandas()"
   ]
  },
  {
   "cell_type": "markdown",
   "metadata": {
    "editable": true
   },
   "source": [
    "Read Cities file"
   ]
  },
  {
   "cell_type": "code",
   "execution_count": 60,
   "metadata": {
    "editable": true
   },
   "outputs": [],
   "source": [
    "stg_all_city_schema = StructType([\n",
    "        StructField('city_cd', IntegerType()),\n",
    "        StructField('city', StringType())\n",
    "    ])"
   ]
  },
  {
   "cell_type": "code",
   "execution_count": 61,
   "metadata": {
    "editable": true
   },
   "outputs": [],
   "source": [
    "stg_all_city_df =spark.read.csv('{}/city.txt'.format(landing_zone_path),header=True,schema=stg_all_city_schema)"
   ]
  },
  {
   "cell_type": "code",
   "execution_count": 62,
   "metadata": {
    "editable": true
   },
   "outputs": [
    {
     "data": {
      "text/html": [
       "<div>\n",
       "<style scoped>\n",
       "    .dataframe tbody tr th:only-of-type {\n",
       "        vertical-align: middle;\n",
       "    }\n",
       "\n",
       "    .dataframe tbody tr th {\n",
       "        vertical-align: top;\n",
       "    }\n",
       "\n",
       "    .dataframe thead th {\n",
       "        text-align: right;\n",
       "    }\n",
       "</style>\n",
       "<table border=\"1\" class=\"dataframe\">\n",
       "  <thead>\n",
       "    <tr style=\"text-align: right;\">\n",
       "      <th></th>\n",
       "      <th>city_cd</th>\n",
       "      <th>city</th>\n",
       "    </tr>\n",
       "  </thead>\n",
       "  <tbody>\n",
       "    <tr>\n",
       "      <th>0</th>\n",
       "      <td>582</td>\n",
       "      <td>MEXICO Air Sea</td>\n",
       "    </tr>\n",
       "    <tr>\n",
       "      <th>1</th>\n",
       "      <td>236</td>\n",
       "      <td>AFGHANISTAN</td>\n",
       "    </tr>\n",
       "    <tr>\n",
       "      <th>2</th>\n",
       "      <td>101</td>\n",
       "      <td>ALBANIA</td>\n",
       "    </tr>\n",
       "    <tr>\n",
       "      <th>3</th>\n",
       "      <td>316</td>\n",
       "      <td>ALGERIA</td>\n",
       "    </tr>\n",
       "    <tr>\n",
       "      <th>4</th>\n",
       "      <td>102</td>\n",
       "      <td>ANDORRA</td>\n",
       "    </tr>\n",
       "    <tr>\n",
       "      <th>5</th>\n",
       "      <td>324</td>\n",
       "      <td>ANGOLA</td>\n",
       "    </tr>\n",
       "    <tr>\n",
       "      <th>6</th>\n",
       "      <td>529</td>\n",
       "      <td>ANGUILLA</td>\n",
       "    </tr>\n",
       "    <tr>\n",
       "      <th>7</th>\n",
       "      <td>518</td>\n",
       "      <td>ANTIGUA-BARBUDA</td>\n",
       "    </tr>\n",
       "    <tr>\n",
       "      <th>8</th>\n",
       "      <td>687</td>\n",
       "      <td>ARGENTINA</td>\n",
       "    </tr>\n",
       "    <tr>\n",
       "      <th>9</th>\n",
       "      <td>151</td>\n",
       "      <td>ARMENIA</td>\n",
       "    </tr>\n",
       "  </tbody>\n",
       "</table>\n",
       "</div>"
      ],
      "text/plain": [
       "   city_cd             city\n",
       "0      582   MEXICO Air Sea\n",
       "1      236      AFGHANISTAN\n",
       "2      101          ALBANIA\n",
       "3      316          ALGERIA\n",
       "4      102          ANDORRA\n",
       "5      324           ANGOLA\n",
       "6      529         ANGUILLA\n",
       "7      518  ANTIGUA-BARBUDA\n",
       "8      687       ARGENTINA \n",
       "9      151          ARMENIA"
      ]
     },
     "execution_count": 62,
     "metadata": {},
     "output_type": "execute_result"
    }
   ],
   "source": [
    "stg_all_city_df.limit(10).toPandas()"
   ]
  },
  {
   "cell_type": "code",
   "execution_count": 63,
   "metadata": {
    "editable": true
   },
   "outputs": [
    {
     "name": "stdout",
     "output_type": "stream",
     "text": [
      "root\n",
      " |-- city_cd: integer (nullable = true)\n",
      " |-- city: string (nullable = true)\n",
      "\n"
     ]
    }
   ],
   "source": [
    "stg_all_city_df.printSchema()"
   ]
  },
  {
   "cell_type": "code",
   "execution_count": 64,
   "metadata": {
    "editable": true
   },
   "outputs": [],
   "source": [
    "stg_all_city_df.createOrReplaceTempView(\"stg_all_city\")"
   ]
  },
  {
   "cell_type": "markdown",
   "metadata": {
    "editable": true
   },
   "source": [
    "Read Visa type file"
   ]
  },
  {
   "cell_type": "code",
   "execution_count": 65,
   "metadata": {
    "editable": true
   },
   "outputs": [],
   "source": [
    "stg_visa_type_schema = StructType([\n",
    "        StructField('visa_cd', IntegerType()),\n",
    "        StructField('visa', StringType())\n",
    "    ])"
   ]
  },
  {
   "cell_type": "code",
   "execution_count": 66,
   "metadata": {
    "editable": true
   },
   "outputs": [],
   "source": [
    "stg_visa_type_df =spark.read.csv('{}/visa_type.txt'.format(landing_zone_path),header=True,schema=stg_visa_type_schema)"
   ]
  },
  {
   "cell_type": "code",
   "execution_count": 67,
   "metadata": {
    "editable": true
   },
   "outputs": [
    {
     "data": {
      "text/html": [
       "<div>\n",
       "<style scoped>\n",
       "    .dataframe tbody tr th:only-of-type {\n",
       "        vertical-align: middle;\n",
       "    }\n",
       "\n",
       "    .dataframe tbody tr th {\n",
       "        vertical-align: top;\n",
       "    }\n",
       "\n",
       "    .dataframe thead th {\n",
       "        text-align: right;\n",
       "    }\n",
       "</style>\n",
       "<table border=\"1\" class=\"dataframe\">\n",
       "  <thead>\n",
       "    <tr style=\"text-align: right;\">\n",
       "      <th></th>\n",
       "      <th>visa_cd</th>\n",
       "      <th>visa</th>\n",
       "    </tr>\n",
       "  </thead>\n",
       "  <tbody>\n",
       "    <tr>\n",
       "      <th>0</th>\n",
       "      <td>1</td>\n",
       "      <td>Business</td>\n",
       "    </tr>\n",
       "    <tr>\n",
       "      <th>1</th>\n",
       "      <td>2</td>\n",
       "      <td>Pleasure</td>\n",
       "    </tr>\n",
       "    <tr>\n",
       "      <th>2</th>\n",
       "      <td>3</td>\n",
       "      <td>Student</td>\n",
       "    </tr>\n",
       "  </tbody>\n",
       "</table>\n",
       "</div>"
      ],
      "text/plain": [
       "   visa_cd        visa\n",
       "0        1    Business\n",
       "1        2    Pleasure\n",
       "2        3     Student"
      ]
     },
     "execution_count": 67,
     "metadata": {},
     "output_type": "execute_result"
    }
   ],
   "source": [
    "stg_visa_type_df.limit(10).toPandas()"
   ]
  },
  {
   "cell_type": "code",
   "execution_count": 68,
   "metadata": {
    "editable": true
   },
   "outputs": [
    {
     "name": "stdout",
     "output_type": "stream",
     "text": [
      "root\n",
      " |-- visa_cd: integer (nullable = true)\n",
      " |-- visa: string (nullable = true)\n",
      "\n"
     ]
    }
   ],
   "source": [
    "stg_visa_type_df.printSchema()"
   ]
  },
  {
   "cell_type": "code",
   "execution_count": 69,
   "metadata": {
    "editable": true
   },
   "outputs": [],
   "source": [
    "stg_visa_type_df.createOrReplaceTempView(\"stg_visa_type\")"
   ]
  },
  {
   "cell_type": "markdown",
   "metadata": {
    "editable": true
   },
   "source": [
    "Read transportation Mode data"
   ]
  },
  {
   "cell_type": "code",
   "execution_count": 70,
   "metadata": {
    "editable": true
   },
   "outputs": [],
   "source": [
    "stg_trans_mode_schema = StructType([\n",
    "        StructField('trans_mode_cd', IntegerType()),\n",
    "        StructField('trans_mode', StringType())\n",
    "    ])"
   ]
  },
  {
   "cell_type": "code",
   "execution_count": 71,
   "metadata": {
    "editable": true
   },
   "outputs": [],
   "source": [
    "stg_trans_mode_df =spark.read.csv('{}/transport_mode.txt'.format(landing_zone_path),header=True,schema=stg_trans_mode_schema)"
   ]
  },
  {
   "cell_type": "code",
   "execution_count": 72,
   "metadata": {
    "editable": true
   },
   "outputs": [
    {
     "data": {
      "text/html": [
       "<div>\n",
       "<style scoped>\n",
       "    .dataframe tbody tr th:only-of-type {\n",
       "        vertical-align: middle;\n",
       "    }\n",
       "\n",
       "    .dataframe tbody tr th {\n",
       "        vertical-align: top;\n",
       "    }\n",
       "\n",
       "    .dataframe thead th {\n",
       "        text-align: right;\n",
       "    }\n",
       "</style>\n",
       "<table border=\"1\" class=\"dataframe\">\n",
       "  <thead>\n",
       "    <tr style=\"text-align: right;\">\n",
       "      <th></th>\n",
       "      <th>trans_mode_cd</th>\n",
       "      <th>trans_mode</th>\n",
       "    </tr>\n",
       "  </thead>\n",
       "  <tbody>\n",
       "    <tr>\n",
       "      <th>0</th>\n",
       "      <td>1</td>\n",
       "      <td>Air</td>\n",
       "    </tr>\n",
       "    <tr>\n",
       "      <th>1</th>\n",
       "      <td>2</td>\n",
       "      <td>Sea</td>\n",
       "    </tr>\n",
       "    <tr>\n",
       "      <th>2</th>\n",
       "      <td>3</td>\n",
       "      <td>Land</td>\n",
       "    </tr>\n",
       "    <tr>\n",
       "      <th>3</th>\n",
       "      <td>9</td>\n",
       "      <td>Not Reported</td>\n",
       "    </tr>\n",
       "  </tbody>\n",
       "</table>\n",
       "</div>"
      ],
      "text/plain": [
       "   trans_mode_cd    trans_mode\n",
       "0              1           Air\n",
       "1              2           Sea\n",
       "2              3          Land\n",
       "3              9  Not Reported"
      ]
     },
     "execution_count": 72,
     "metadata": {},
     "output_type": "execute_result"
    }
   ],
   "source": [
    "stg_trans_mode_df.limit(10).toPandas()"
   ]
  },
  {
   "cell_type": "code",
   "execution_count": 73,
   "metadata": {
    "editable": true
   },
   "outputs": [
    {
     "name": "stdout",
     "output_type": "stream",
     "text": [
      "root\n",
      " |-- trans_mode_cd: integer (nullable = true)\n",
      " |-- trans_mode: string (nullable = true)\n",
      "\n"
     ]
    }
   ],
   "source": [
    "stg_trans_mode_df.printSchema()"
   ]
  },
  {
   "cell_type": "code",
   "execution_count": 74,
   "metadata": {
    "editable": true
   },
   "outputs": [],
   "source": [
    "stg_trans_mode_df.createOrReplaceTempView(\"stg_trans_mode\")"
   ]
  },
  {
   "cell_type": "markdown",
   "metadata": {
    "editable": true
   },
   "source": [
    "Read date data"
   ]
  },
  {
   "cell_type": "code",
   "execution_count": 76,
   "metadata": {
    "editable": true
   },
   "outputs": [
    {
     "data": {
      "text/plain": [
       "DataFrame[]"
      ]
     },
     "execution_count": 76,
     "metadata": {},
     "output_type": "execute_result"
    }
   ],
   "source": [
    "spark.sql(\"Drop table if exists stg_date\")"
   ]
  },
  {
   "cell_type": "code",
   "execution_count": 77,
   "metadata": {
    "editable": true
   },
   "outputs": [
    {
     "data": {
      "text/plain": [
       "DataFrame[]"
      ]
     },
     "execution_count": 77,
     "metadata": {},
     "output_type": "execute_result"
    }
   ],
   "source": [
    "spark.sql(\" create table stg_date as select date_add(cast(to_timestamp('01-01-1960', 'mm-dd-yyyy') as date),arrdate ) as dt from stg_immigration_transactions\\\n",
    " union     select date_add(cast(to_timestamp('01-01-1960', 'mm-dd-yyyy') as date),depdate) as dt from stg_immigration_transactions\")"
   ]
  },
  {
   "cell_type": "markdown",
   "metadata": {
    "editable": true
   },
   "source": [
    "Load the Data Model which is a star schema dimensional model consisting of Fact_Immigration surrounded by denormalized dimensions :\n",
    "All_City_Dim ,\n",
    "US_City_Dim ,\n",
    "Airport_Dim ,\n",
    "Visa_type_Dim ,\n",
    "Date_Dim"
   ]
  },
  {
   "cell_type": "markdown",
   "metadata": {
    "editable": true
   },
   "source": [
    "Load All_City_Dim"
   ]
  },
  {
   "cell_type": "code",
   "execution_count": 78,
   "metadata": {
    "editable": true
   },
   "outputs": [
    {
     "name": "stdout",
     "output_type": "stream",
     "text": [
      "Load Dim_All_City\n"
     ]
    }
   ],
   "source": [
    "print('Load Dim_All_City')"
   ]
  },
  {
   "cell_type": "code",
   "execution_count": 79,
   "metadata": {
    "editable": true
   },
   "outputs": [],
   "source": [
    "dim_all_city_path='{}/all_city_dim.parquet'"
   ]
  },
  {
   "cell_type": "code",
   "execution_count": 80,
   "metadata": {
    "editable": true
   },
   "outputs": [],
   "source": [
    "#check if the parquet file is loaded before or not\n",
    "tab_exist_flg=check_table(dim_all_city_path)"
   ]
  },
  {
   "cell_type": "code",
   "execution_count": 81,
   "metadata": {
    "editable": true
   },
   "outputs": [
    {
     "data": {
      "text/plain": [
       "'FALSE'"
      ]
     },
     "execution_count": 81,
     "metadata": {},
     "output_type": "execute_result"
    }
   ],
   "source": [
    "tab_exist_flg"
   ]
  },
  {
   "cell_type": "code",
   "execution_count": 93,
   "metadata": {
    "editable": true
   },
   "outputs": [],
   "source": [
    "#if loaded before then make left join to increment on the existing data else load the full delta\n",
    "if tab_exist_flg=='TRUE':\n",
    "    dim_all_city_df=spark.read.parquet(dim_all_city_path.format(dwh_model_path))\n",
    "    dim_all_city_df.createOrReplaceTempView(\"dim_all_city\")\n",
    "    all_city_insrt_df=spark.sql('SELECT city_cd ,city from stg_all_city where city_cd not in (select city_cd from dim_all_city)')\n",
    "    all_city_insrt_df.write.parquet(dim_all_city_path.format(dwh_model_path), 'append')\n",
    "else:\n",
    "    all_city_insrt_df=spark.sql('SELECT city_cd ,city from stg_all_city')\n",
    "    all_city_insrt_df.write.parquet(dim_all_city_path.format(dwh_model_path), 'append')"
   ]
  },
  {
   "cell_type": "code",
   "execution_count": 85,
   "metadata": {
    "editable": true
   },
   "outputs": [],
   "source": [
    "df_spark=spark.read.parquet(dim_all_city_path.format(dwh_model_path))"
   ]
  },
  {
   "cell_type": "code",
   "execution_count": 86,
   "metadata": {
    "editable": true
   },
   "outputs": [
    {
     "data": {
      "text/html": [
       "<div>\n",
       "<style scoped>\n",
       "    .dataframe tbody tr th:only-of-type {\n",
       "        vertical-align: middle;\n",
       "    }\n",
       "\n",
       "    .dataframe tbody tr th {\n",
       "        vertical-align: top;\n",
       "    }\n",
       "\n",
       "    .dataframe thead th {\n",
       "        text-align: right;\n",
       "    }\n",
       "</style>\n",
       "<table border=\"1\" class=\"dataframe\">\n",
       "  <thead>\n",
       "    <tr style=\"text-align: right;\">\n",
       "      <th></th>\n",
       "      <th>city_cd</th>\n",
       "      <th>city</th>\n",
       "    </tr>\n",
       "  </thead>\n",
       "  <tbody>\n",
       "    <tr>\n",
       "      <th>0</th>\n",
       "      <td>582</td>\n",
       "      <td>MEXICO Air Sea</td>\n",
       "    </tr>\n",
       "    <tr>\n",
       "      <th>1</th>\n",
       "      <td>236</td>\n",
       "      <td>AFGHANISTAN</td>\n",
       "    </tr>\n",
       "    <tr>\n",
       "      <th>2</th>\n",
       "      <td>101</td>\n",
       "      <td>ALBANIA</td>\n",
       "    </tr>\n",
       "    <tr>\n",
       "      <th>3</th>\n",
       "      <td>316</td>\n",
       "      <td>ALGERIA</td>\n",
       "    </tr>\n",
       "    <tr>\n",
       "      <th>4</th>\n",
       "      <td>102</td>\n",
       "      <td>ANDORRA</td>\n",
       "    </tr>\n",
       "    <tr>\n",
       "      <th>5</th>\n",
       "      <td>324</td>\n",
       "      <td>ANGOLA</td>\n",
       "    </tr>\n",
       "    <tr>\n",
       "      <th>6</th>\n",
       "      <td>529</td>\n",
       "      <td>ANGUILLA</td>\n",
       "    </tr>\n",
       "    <tr>\n",
       "      <th>7</th>\n",
       "      <td>518</td>\n",
       "      <td>ANTIGUA-BARBUDA</td>\n",
       "    </tr>\n",
       "    <tr>\n",
       "      <th>8</th>\n",
       "      <td>687</td>\n",
       "      <td>ARGENTINA</td>\n",
       "    </tr>\n",
       "    <tr>\n",
       "      <th>9</th>\n",
       "      <td>151</td>\n",
       "      <td>ARMENIA</td>\n",
       "    </tr>\n",
       "  </tbody>\n",
       "</table>\n",
       "</div>"
      ],
      "text/plain": [
       "   city_cd             city\n",
       "0      582   MEXICO Air Sea\n",
       "1      236      AFGHANISTAN\n",
       "2      101          ALBANIA\n",
       "3      316          ALGERIA\n",
       "4      102          ANDORRA\n",
       "5      324           ANGOLA\n",
       "6      529         ANGUILLA\n",
       "7      518  ANTIGUA-BARBUDA\n",
       "8      687       ARGENTINA \n",
       "9      151          ARMENIA"
      ]
     },
     "execution_count": 86,
     "metadata": {},
     "output_type": "execute_result"
    }
   ],
   "source": [
    "df_spark.limit(10).toPandas()"
   ]
  },
  {
   "cell_type": "markdown",
   "metadata": {
    "editable": true
   },
   "source": [
    "Load Dim_US_city data"
   ]
  },
  {
   "cell_type": "code",
   "execution_count": 87,
   "metadata": {
    "editable": true
   },
   "outputs": [
    {
     "name": "stdout",
     "output_type": "stream",
     "text": [
      "Load Dim_US_City\n"
     ]
    }
   ],
   "source": [
    "print('Load Dim_US_City')"
   ]
  },
  {
   "cell_type": "code",
   "execution_count": 88,
   "metadata": {
    "editable": true
   },
   "outputs": [],
   "source": [
    "dim_us_city_path='{}/us_city_dim.parquet'"
   ]
  },
  {
   "cell_type": "code",
   "execution_count": 89,
   "metadata": {
    "editable": true
   },
   "outputs": [],
   "source": [
    "#check if the parquet file is loaded before or not\n",
    "tab_exist_flg=check_table(dim_us_city_path.format(dwh_model_path))"
   ]
  },
  {
   "cell_type": "code",
   "execution_count": 90,
   "metadata": {
    "editable": true
   },
   "outputs": [
    {
     "data": {
      "text/plain": [
       "'TRUE'"
      ]
     },
     "execution_count": 90,
     "metadata": {},
     "output_type": "execute_result"
    }
   ],
   "source": [
    "tab_exist_flg"
   ]
  },
  {
   "cell_type": "code",
   "execution_count": 92,
   "metadata": {
    "editable": true
   },
   "outputs": [],
   "source": [
    "#if loaded before then make left join to increment on the existing data else load the full delta\n",
    "if tab_exist_flg=='TRUE':\n",
    "    dim_us_city_df=spark.read.parquet(dim_us_city_path.format(dwh_model_path))\n",
    "    dim_us_city_df.createOrReplaceTempView(\"dim_us_city\")\n",
    "    us_city_insrt_df=spark.sql('SELECT  state,state_code,male_population,female_population,total_population,number_of_veterans,foreign_born,count from stg_us_city \\\n",
    "    where state_code not in (select state_code from dim_us_city) ')\n",
    "    us_city_insrt_df.write.parquet(dim_us_city_path.format(dwh_model_path), 'append')\n",
    "else:\n",
    "    us_city_insrt_df=spark.sql('SELECT  state,state_code,male_population,female_population,total_population,number_of_veterans,foreign_born,count from stg_us_city')\n",
    "    us_city_insrt_df.write.parquet(dim_us_city_path.format(dwh_model_path), 'append')"
   ]
  },
  {
   "cell_type": "code",
   "execution_count": 95,
   "metadata": {
    "editable": true
   },
   "outputs": [],
   "source": [
    "df_spark=spark.read.parquet(dim_us_city_path.format(dwh_model_path))"
   ]
  },
  {
   "cell_type": "code",
   "execution_count": 96,
   "metadata": {
    "editable": true
   },
   "outputs": [
    {
     "data": {
      "text/plain": [
       "49"
      ]
     },
     "execution_count": 96,
     "metadata": {},
     "output_type": "execute_result"
    }
   ],
   "source": [
    "df_spark.count()"
   ]
  },
  {
   "cell_type": "markdown",
   "metadata": {
    "editable": true
   },
   "source": [
    "Load Dim_airport data"
   ]
  },
  {
   "cell_type": "code",
   "execution_count": 97,
   "metadata": {
    "editable": true
   },
   "outputs": [
    {
     "name": "stdout",
     "output_type": "stream",
     "text": [
      "Load Dim_airport\n"
     ]
    }
   ],
   "source": [
    "print('Load Dim_airport')"
   ]
  },
  {
   "cell_type": "code",
   "execution_count": 98,
   "metadata": {
    "editable": true
   },
   "outputs": [],
   "source": [
    "dim_airport_path='{}/airport_dim.parquet'"
   ]
  },
  {
   "cell_type": "code",
   "execution_count": 99,
   "metadata": {
    "editable": true
   },
   "outputs": [],
   "source": [
    "#check if the parquet file is loaded before or not\n",
    "tab_exist_flg=check_table(dim_airport_path.format(dwh_model_path))"
   ]
  },
  {
   "cell_type": "code",
   "execution_count": 100,
   "metadata": {
    "editable": true
   },
   "outputs": [
    {
     "data": {
      "text/plain": [
       "'TRUE'"
      ]
     },
     "execution_count": 100,
     "metadata": {},
     "output_type": "execute_result"
    }
   ],
   "source": [
    "tab_exist_flg"
   ]
  },
  {
   "cell_type": "code",
   "execution_count": 101,
   "metadata": {
    "editable": true
   },
   "outputs": [],
   "source": [
    "#if loaded before then make left join to increment on the existing data else load the full delta\n",
    "if tab_exist_flg=='TRUE':\n",
    "    dim_airport_df=spark.read.parquet(dim_airport_path.format(dwh_model_path))\n",
    "    dim_airport_df.createOrReplaceTempView(\"dim_airport\")\n",
    "    airport_insrt_df=spark.sql('SELECT name,type,elevation_ft,iso_region,municipality,gps_code,iata_code,local_code,coordinates  \\\n",
    "          FROM stg_airport \\\n",
    "          where local_code not in (select local_code from dim_airport) ')\n",
    "    airport_insrt_df.write.parquet(dim_airport_path.format(dwh_model_path), 'append')\n",
    "else:\n",
    "    airport_insrt_df=spark.sql('SELECT name,type,elevation_ft,iso_region,municipality,gps_code,iata_code,local_code,coordinates  \\\n",
    "          FROM stg_airport')\n",
    "    airport_insrt_df.write.parquet(dim_airport_path.format(dwh_model_path), 'append')"
   ]
  },
  {
   "cell_type": "code",
   "execution_count": 102,
   "metadata": {
    "editable": true
   },
   "outputs": [],
   "source": [
    "df_spark=spark.read.parquet(dim_airport_path.format(dwh_model_path))"
   ]
  },
  {
   "cell_type": "code",
   "execution_count": 103,
   "metadata": {
    "editable": true
   },
   "outputs": [
    {
     "data": {
      "text/plain": [
       "21236"
      ]
     },
     "execution_count": 103,
     "metadata": {},
     "output_type": "execute_result"
    }
   ],
   "source": [
    "df_spark.count()"
   ]
  },
  {
   "cell_type": "markdown",
   "metadata": {
    "editable": true
   },
   "source": [
    "Load Dim_visa_type data"
   ]
  },
  {
   "cell_type": "code",
   "execution_count": 104,
   "metadata": {
    "editable": true
   },
   "outputs": [
    {
     "name": "stdout",
     "output_type": "stream",
     "text": [
      "Load Dim_visa_type\n"
     ]
    }
   ],
   "source": [
    "print('Load Dim_visa_type')"
   ]
  },
  {
   "cell_type": "code",
   "execution_count": 105,
   "metadata": {
    "editable": true
   },
   "outputs": [],
   "source": [
    "dim_visa_type_path='visa_type_dim.parquet'.format(dwh_model_path)"
   ]
  },
  {
   "cell_type": "code",
   "execution_count": 106,
   "metadata": {
    "editable": true
   },
   "outputs": [],
   "source": [
    "#check if the parquet file is loaded before or not\n",
    "tab_exist_flg=check_table(dim_visa_type_path.format(dwh_model_path))"
   ]
  },
  {
   "cell_type": "code",
   "execution_count": 107,
   "metadata": {
    "editable": true
   },
   "outputs": [
    {
     "data": {
      "text/plain": [
       "'FALSE'"
      ]
     },
     "execution_count": 107,
     "metadata": {},
     "output_type": "execute_result"
    }
   ],
   "source": [
    "tab_exist_flg"
   ]
  },
  {
   "cell_type": "code",
   "execution_count": 108,
   "metadata": {
    "editable": true
   },
   "outputs": [],
   "source": [
    "#if loaded before then make left join to increment on the existing data else load the full delta\n",
    "if tab_exist_flg=='TRUE':\n",
    "    dim_visa_type_df=spark.read.parquet(dim_visa_type_path.format(dwh_model_path))\n",
    "    dim_visa_type_df.createOrReplaceTempView(\"dim_visa_type\")\n",
    "    visa_type_insrt_df=spark.sql('SELECT visa_cd,visa  \\\n",
    "          FROM stg_visa_type \\\n",
    "          where visa_cd not in (select visa_cd from dim_visa_type) ')\n",
    "    visa_type_insrt_df.write.parquet(dim_visa_type_path.format(dwh_model_path), 'append')\n",
    "else:\n",
    "    visa_type_insrt_df=spark.sql('SELECT visa_cd, visa  \\\n",
    "          FROM stg_visa_type')\n",
    "    visa_type_insrt_df.write.parquet(dim_visa_type_path.format(dwh_model_path), 'append')"
   ]
  },
  {
   "cell_type": "code",
   "execution_count": 109,
   "metadata": {
    "editable": true
   },
   "outputs": [],
   "source": [
    "df_spark=spark.read.parquet(dim_visa_type_path.format(dwh_model_path))"
   ]
  },
  {
   "cell_type": "code",
   "execution_count": 110,
   "metadata": {
    "editable": true
   },
   "outputs": [
    {
     "data": {
      "text/plain": [
       "3"
      ]
     },
     "execution_count": 110,
     "metadata": {},
     "output_type": "execute_result"
    }
   ],
   "source": [
    "df_spark.count()"
   ]
  },
  {
   "cell_type": "markdown",
   "metadata": {
    "editable": true
   },
   "source": [
    "Load Dim_transp_mode"
   ]
  },
  {
   "cell_type": "code",
   "execution_count": 111,
   "metadata": {
    "editable": true
   },
   "outputs": [
    {
     "name": "stdout",
     "output_type": "stream",
     "text": [
      "Load Dim_trans_mode\n"
     ]
    }
   ],
   "source": [
    "print('Load Dim_trans_mode')"
   ]
  },
  {
   "cell_type": "code",
   "execution_count": 112,
   "metadata": {
    "editable": true
   },
   "outputs": [],
   "source": [
    "dim_trans_mode_path='trans_mode_dim.parquet'.format(dwh_model_path)"
   ]
  },
  {
   "cell_type": "code",
   "execution_count": 113,
   "metadata": {
    "editable": true
   },
   "outputs": [],
   "source": [
    "#check if the parquet file is loaded before or not\n",
    "tab_exist_flg=check_table(dim_trans_mode_path.format(dwh_model_path))"
   ]
  },
  {
   "cell_type": "code",
   "execution_count": 114,
   "metadata": {
    "editable": true
   },
   "outputs": [
    {
     "data": {
      "text/plain": [
       "'FALSE'"
      ]
     },
     "execution_count": 114,
     "metadata": {},
     "output_type": "execute_result"
    }
   ],
   "source": [
    "tab_exist_flg"
   ]
  },
  {
   "cell_type": "code",
   "execution_count": 115,
   "metadata": {
    "editable": true
   },
   "outputs": [],
   "source": [
    "#if loaded before then make left join to increment on the existing data else load the full delta\n",
    "if tab_exist_flg=='TRUE':\n",
    "    dim_trans_mode_df=spark.read.parquet(dim_trans_mode_path.format(dwh_model_path))\n",
    "    dim_trans_mode_df.createOrReplaceTempView(\"dim_trans_mode\")\n",
    "    trans_mode_insrt_df=spark.sql('SELECT trans_mode_cd,trans_mode  \\\n",
    "          FROM stg_trans_mode \\\n",
    "          where trans_mode_cd not in (select trans_mode_cd from dim_trans_mode) ')\n",
    "    trans_mode_insrt_df.write.parquet(dim_trans_mode_path.format(dwh_model_path), 'append')\n",
    "else:\n",
    "    trans_mode_insrt_df=spark.sql('SELECT trans_mode_cd, trans_mode  \\\n",
    "          FROM stg_trans_mode')\n",
    "    trans_mode_insrt_df.write.parquet(dim_trans_mode_path.format(dwh_model_path), 'append')"
   ]
  },
  {
   "cell_type": "code",
   "execution_count": 116,
   "metadata": {
    "editable": true
   },
   "outputs": [],
   "source": [
    "df_spark=spark.read.parquet(dim_trans_mode_path.format(dwh_model_path))"
   ]
  },
  {
   "cell_type": "code",
   "execution_count": 117,
   "metadata": {
    "editable": true
   },
   "outputs": [
    {
     "data": {
      "text/plain": [
       "4"
      ]
     },
     "execution_count": 117,
     "metadata": {},
     "output_type": "execute_result"
    }
   ],
   "source": [
    "df_spark.count()"
   ]
  },
  {
   "cell_type": "markdown",
   "metadata": {
    "editable": true
   },
   "source": [
    "Load dim_date Table"
   ]
  },
  {
   "cell_type": "code",
   "execution_count": 118,
   "metadata": {
    "editable": true
   },
   "outputs": [
    {
     "name": "stdout",
     "output_type": "stream",
     "text": [
      "Load Dim_date\n"
     ]
    }
   ],
   "source": [
    "print('Load Dim_date'.format(dwh_model_path))"
   ]
  },
  {
   "cell_type": "code",
   "execution_count": 119,
   "metadata": {
    "editable": true
   },
   "outputs": [],
   "source": [
    "dim_date_path='date_dim.parquet'.format(dwh_model_path)"
   ]
  },
  {
   "cell_type": "code",
   "execution_count": 120,
   "metadata": {
    "editable": true
   },
   "outputs": [],
   "source": [
    "#check if the parquet file is loaded before or not\n",
    "tab_exist_flg=check_table(dim_date_path.format(dwh_model_path))"
   ]
  },
  {
   "cell_type": "code",
   "execution_count": 121,
   "metadata": {
    "editable": true
   },
   "outputs": [
    {
     "data": {
      "text/plain": [
       "'FALSE'"
      ]
     },
     "execution_count": 121,
     "metadata": {},
     "output_type": "execute_result"
    }
   ],
   "source": [
    "tab_exist_flg"
   ]
  },
  {
   "cell_type": "code",
   "execution_count": 122,
   "metadata": {
    "editable": true
   },
   "outputs": [],
   "source": [
    "#if loaded before then make left join to increment on the existing data else load the full delta\n",
    "if tab_exist_flg=='TRUE':\n",
    "    dim_date_df=spark.read.parquet(dim_date_path.format(dwh_model_path))\n",
    "    dim_date_df.createOrReplaceTempView(\"dim_date\")\n",
    "    dt_insrt_df=spark.sql('SELECT dt, day,week ,month ,year ,weekday\\\n",
    "          FROM stg_dt \\\n",
    "          where dt not in (select dt from dim_dt) ')\n",
    "    date_insrt_df.write.parquet(dim_date_path.format(dwh_model_path), 'append')\n",
    "else:\n",
    "    date_insrt_df=spark.sql('SELECT dt, dayofmonth(dt) as day, weekofyear(dt) as week, \\\n",
    "                                                month(dt) as month, year(dt) as year, dayofweek(dt) as weekday  \\\n",
    "          FROM stg_date')\n",
    "    date_insrt_df.write.parquet(dim_date_path.format(dwh_model_path), 'append')"
   ]
  },
  {
   "cell_type": "code",
   "execution_count": 123,
   "metadata": {
    "editable": true
   },
   "outputs": [],
   "source": [
    "df_spark=spark.read.parquet(dim_date_path.format(dwh_model_path))"
   ]
  },
  {
   "cell_type": "code",
   "execution_count": 124,
   "metadata": {
    "editable": true
   },
   "outputs": [
    {
     "data": {
      "text/html": [
       "<div>\n",
       "<style scoped>\n",
       "    .dataframe tbody tr th:only-of-type {\n",
       "        vertical-align: middle;\n",
       "    }\n",
       "\n",
       "    .dataframe tbody tr th {\n",
       "        vertical-align: top;\n",
       "    }\n",
       "\n",
       "    .dataframe thead th {\n",
       "        text-align: right;\n",
       "    }\n",
       "</style>\n",
       "<table border=\"1\" class=\"dataframe\">\n",
       "  <thead>\n",
       "    <tr style=\"text-align: right;\">\n",
       "      <th></th>\n",
       "      <th>dt</th>\n",
       "      <th>day</th>\n",
       "      <th>week</th>\n",
       "      <th>month</th>\n",
       "      <th>year</th>\n",
       "      <th>weekday</th>\n",
       "    </tr>\n",
       "  </thead>\n",
       "  <tbody>\n",
       "    <tr>\n",
       "      <th>0</th>\n",
       "      <td>2016-04-19</td>\n",
       "      <td>19</td>\n",
       "      <td>16</td>\n",
       "      <td>4</td>\n",
       "      <td>2016</td>\n",
       "      <td>3</td>\n",
       "    </tr>\n",
       "    <tr>\n",
       "      <th>1</th>\n",
       "      <td>2016-09-12</td>\n",
       "      <td>12</td>\n",
       "      <td>37</td>\n",
       "      <td>9</td>\n",
       "      <td>2016</td>\n",
       "      <td>2</td>\n",
       "    </tr>\n",
       "    <tr>\n",
       "      <th>2</th>\n",
       "      <td>2015-04-16</td>\n",
       "      <td>16</td>\n",
       "      <td>16</td>\n",
       "      <td>4</td>\n",
       "      <td>2015</td>\n",
       "      <td>5</td>\n",
       "    </tr>\n",
       "    <tr>\n",
       "      <th>3</th>\n",
       "      <td>2016-06-30</td>\n",
       "      <td>30</td>\n",
       "      <td>26</td>\n",
       "      <td>6</td>\n",
       "      <td>2016</td>\n",
       "      <td>5</td>\n",
       "    </tr>\n",
       "    <tr>\n",
       "      <th>4</th>\n",
       "      <td>2016-06-03</td>\n",
       "      <td>3</td>\n",
       "      <td>22</td>\n",
       "      <td>6</td>\n",
       "      <td>2016</td>\n",
       "      <td>6</td>\n",
       "    </tr>\n",
       "    <tr>\n",
       "      <th>5</th>\n",
       "      <td>2016-07-20</td>\n",
       "      <td>20</td>\n",
       "      <td>29</td>\n",
       "      <td>7</td>\n",
       "      <td>2016</td>\n",
       "      <td>4</td>\n",
       "    </tr>\n",
       "    <tr>\n",
       "      <th>6</th>\n",
       "      <td>2016-07-06</td>\n",
       "      <td>6</td>\n",
       "      <td>27</td>\n",
       "      <td>7</td>\n",
       "      <td>2016</td>\n",
       "      <td>4</td>\n",
       "    </tr>\n",
       "    <tr>\n",
       "      <th>7</th>\n",
       "      <td>2016-04-26</td>\n",
       "      <td>26</td>\n",
       "      <td>17</td>\n",
       "      <td>4</td>\n",
       "      <td>2016</td>\n",
       "      <td>3</td>\n",
       "    </tr>\n",
       "    <tr>\n",
       "      <th>8</th>\n",
       "      <td>2016-08-05</td>\n",
       "      <td>5</td>\n",
       "      <td>31</td>\n",
       "      <td>8</td>\n",
       "      <td>2016</td>\n",
       "      <td>6</td>\n",
       "    </tr>\n",
       "    <tr>\n",
       "      <th>9</th>\n",
       "      <td>2016-05-13</td>\n",
       "      <td>13</td>\n",
       "      <td>19</td>\n",
       "      <td>5</td>\n",
       "      <td>2016</td>\n",
       "      <td>6</td>\n",
       "    </tr>\n",
       "  </tbody>\n",
       "</table>\n",
       "</div>"
      ],
      "text/plain": [
       "           dt  day  week  month  year  weekday\n",
       "0  2016-04-19   19    16      4  2016        3\n",
       "1  2016-09-12   12    37      9  2016        2\n",
       "2  2015-04-16   16    16      4  2015        5\n",
       "3  2016-06-30   30    26      6  2016        5\n",
       "4  2016-06-03    3    22      6  2016        6\n",
       "5  2016-07-20   20    29      7  2016        4\n",
       "6  2016-07-06    6    27      7  2016        4\n",
       "7  2016-04-26   26    17      4  2016        3\n",
       "8  2016-08-05    5    31      8  2016        6\n",
       "9  2016-05-13   13    19      5  2016        6"
      ]
     },
     "execution_count": 124,
     "metadata": {},
     "output_type": "execute_result"
    }
   ],
   "source": [
    "df_spark.limit(10).toPandas()"
   ]
  },
  {
   "cell_type": "code",
   "execution_count": 125,
   "metadata": {
    "editable": true
   },
   "outputs": [
    {
     "data": {
      "text/plain": [
       "236"
      ]
     },
     "execution_count": 125,
     "metadata": {},
     "output_type": "execute_result"
    }
   ],
   "source": [
    "df_spark.count()"
   ]
  },
  {
   "cell_type": "markdown",
   "metadata": {
    "editable": true
   },
   "source": [
    "Load The Fact_Immigration Table"
   ]
  },
  {
   "cell_type": "code",
   "execution_count": 126,
   "metadata": {
    "editable": true
   },
   "outputs": [
    {
     "name": "stdout",
     "output_type": "stream",
     "text": [
      "Load Fact_Immigration Table\n"
     ]
    }
   ],
   "source": [
    "print('Load Fact_Immigration Table')"
   ]
  },
  {
   "cell_type": "code",
   "execution_count": 128,
   "metadata": {
    "editable": true
   },
   "outputs": [],
   "source": [
    "fact_immig_path='{}/immig_fact.parquet'"
   ]
  },
  {
   "cell_type": "code",
   "execution_count": 131,
   "metadata": {
    "editable": true
   },
   "outputs": [],
   "source": [
    "immig_insrt_df=spark.sql(\"select \\\n",
    "cast(cast(i94yr as integer) as string)||''||case when length(cast(cast(i94mon as integer) as string)) <2 then '0'||cast(cast(i94mon as integer) as string)\\\n",
    "else cast(cast(i94mon as integer) as string) end as  extract_month, \\\n",
    "cast(i94res as integer) as immig_from_city_cd, \\\n",
    "i94port as immig_port_cd ,\\\n",
    "date_add(cast(to_timestamp('01-01-1960', 'mm-dd-yyyy') as date),arrdate ) as arrival_date,\\\n",
    "cast(coalesce(i94mode,9) as integer) as immig_transport_mode ,\\\n",
    "i94addr as immig_to_city_cd ,\\\n",
    "date_add(cast(to_timestamp('01-01-1960', 'mm-dd-yyyy') as date),depdate) as depart_date ,\\\n",
    "cast(i94visa as integer) as visa_type_cd ,\\\n",
    "matflag as match_flg ,\\\n",
    "cast(biryear as integer) as resp_birth_year ,\\\n",
    "dtaddto as US_dt_addmt_to ,\\\n",
    "gender as rep_gender ,\\\n",
    "airline as airline_used ,\\\n",
    "admnum as admission_no , \\\n",
    "fltno as flight_no_used , \\\n",
    "visatype as visa_type \\\n",
    "from stg_immigration_transactions limit 1000000\")\n",
    "immig_insrt_df.write.parquet(fact_immig_path.format(dwh_model_path), 'append')"
   ]
  },
  {
   "cell_type": "code",
   "execution_count": null,
   "metadata": {
    "editable": true
   },
   "outputs": [],
   "source": []
  },
  {
   "cell_type": "code",
   "execution_count": null,
   "metadata": {
    "editable": true
   },
   "outputs": [],
   "source": []
  },
  {
   "cell_type": "code",
   "execution_count": null,
   "metadata": {
    "editable": true
   },
   "outputs": [],
   "source": []
  },
  {
   "cell_type": "code",
   "execution_count": null,
   "metadata": {
    "editable": true
   },
   "outputs": [],
   "source": []
  },
  {
   "cell_type": "code",
   "execution_count": null,
   "metadata": {
    "editable": true
   },
   "outputs": [],
   "source": [
    "# Performing cleaning tasks here\n",
    "\n",
    "\n",
    "\n"
   ]
  },
  {
   "cell_type": "markdown",
   "metadata": {
    "editable": true
   },
   "source": [
    "### Step 3: Define the Data Model\n",
    "#### 3.1 Conceptual Data Model\n",
    "Map out the conceptual data model and explain why you chose that model\n",
    "\n",
    "#### 3.2 Mapping Out Data Pipelines\n",
    "List the steps necessary to pipeline the data into the chosen data model"
   ]
  },
  {
   "cell_type": "markdown",
   "metadata": {
    "editable": true
   },
   "source": [
    "### Step 4: Run Pipelines to Model the Data \n",
    "#### 4.1 Create the data model\n",
    "Build the data pipelines to create the data model."
   ]
  },
  {
   "cell_type": "code",
   "execution_count": null,
   "metadata": {
    "editable": true
   },
   "outputs": [],
   "source": [
    "# Write code here"
   ]
  },
  {
   "cell_type": "markdown",
   "metadata": {
    "editable": true
   },
   "source": [
    "#### 4.2 Data Quality Checks\n",
    "Explain the data quality checks you'll perform to ensure the pipeline ran as expected. These could include:\n",
    " * Integrity constraints on the relational database (e.g., unique key, data type, etc.)\n",
    " * Unit tests for the scripts to ensure they are doing the right thing\n",
    " * Source/Count checks to ensure completeness\n",
    " \n",
    "Run Quality Checks"
   ]
  },
  {
   "cell_type": "code",
   "execution_count": null,
   "metadata": {
    "editable": true
   },
   "outputs": [],
   "source": [
    "# Perform quality checks here"
   ]
  },
  {
   "cell_type": "markdown",
   "metadata": {
    "editable": true
   },
   "source": [
    "#### 4.3 Data dictionary \n",
    "Create a data dictionary for your data model. For each field, provide a brief description of what the data is and where it came from. You can include the data dictionary in the notebook or in a separate file."
   ]
  },
  {
   "cell_type": "markdown",
   "metadata": {
    "editable": true
   },
   "source": [
    "#### Step 5: Complete Project Write Up\n",
    "* Clearly state the rationale for the choice of tools and technologies for the project.\n",
    "* Propose how often the data should be updated and why.\n",
    "* Write a description of how you would approach the problem differently under the following scenarios:\n",
    " * The data was increased by 100x.\n",
    " * The data populates a dashboard that must be updated on a daily basis by 7am every day.\n",
    " * The database needed to be accessed by 100+ people."
   ]
  },
  {
   "cell_type": "code",
   "execution_count": null,
   "metadata": {
    "editable": true
   },
   "outputs": [],
   "source": []
  },
  {
   "cell_type": "code",
   "execution_count": null,
   "metadata": {
    "editable": true
   },
   "outputs": [],
   "source": []
  },
  {
   "cell_type": "code",
   "execution_count": null,
   "metadata": {
    "editable": true
   },
   "outputs": [],
   "source": []
  },
  {
   "cell_type": "code",
   "execution_count": null,
   "metadata": {
    "editable": true
   },
   "outputs": [],
   "source": []
  },
  {
   "cell_type": "code",
   "execution_count": null,
   "metadata": {
    "editable": true
   },
   "outputs": [],
   "source": []
  },
  {
   "cell_type": "code",
   "execution_count": null,
   "metadata": {
    "editable": true
   },
   "outputs": [],
   "source": []
  }
 ],
 "metadata": {
  "kernelspec": {
   "display_name": "Python 3",
   "language": "python",
   "name": "python3"
  },
  "language_info": {
   "codemirror_mode": {
    "name": "ipython",
    "version": 3
   },
   "file_extension": ".py",
   "mimetype": "text/x-python",
   "name": "python",
   "nbconvert_exporter": "python",
   "pygments_lexer": "ipython3",
   "version": "3.6.3"
  }
 },
 "nbformat": 4,
 "nbformat_minor": 4
}
